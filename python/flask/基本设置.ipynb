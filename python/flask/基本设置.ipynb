{
 "cells": [
  {
   "cell_type": "markdown",
   "metadata": {},
   "source": [
    "### 1. 基本"
   ]
  },
  {
   "cell_type": "markdown",
   "metadata": {},
   "source": [
    "#### 1.1初始化参数\n",
    "    - static_url_path\n",
    "    - static_folder，默认：'static'\n",
    "    - template_folder， 默认：'templates'"
   ]
  },
  {
   "cell_type": "markdown",
   "metadata": {},
   "source": [
    "#### 1.2 配置参数\n",
    "    - app.config.from_pyfile('config.cfg')\n",
    "    - app.config.from_object()"
   ]
  },
  {
   "cell_type": "markdown",
   "metadata": {},
   "source": [
    "#### 1.3 在视图用读取配置参数\n",
    "    - app.config.get()\n",
    "    - current_app.config.get()"
   ]
  },
  {
   "cell_type": "markdown",
   "metadata": {},
   "source": [
    "#### 1.4 app.run 的参数\n",
    "    - app.run(host='0.0.0.0')"
   ]
  },
  {
   "cell_type": "markdown",
   "metadata": {},
   "source": [
    "### 2. 路由"
   ]
  },
  {
   "cell_type": "markdown",
   "metadata": {},
   "source": [
    "#### 2.1 查看所有路由"
   ]
  },
  {
   "cell_type": "code",
   "execution_count": null,
   "metadata": {},
   "outputs": [],
   "source": [
    "# 查看所有路由\n",
    "app.url_map"
   ]
  },
  {
   "cell_type": "markdown",
   "metadata": {},
   "source": [
    "#### 2.2 限制访问方式"
   ]
  },
  {
   "cell_type": "code",
   "execution_count": null,
   "metadata": {},
   "outputs": [],
   "source": [
    "# 限制访问方式 GET/POST\n",
    "@app.route('/sample', methods=['GET', 'POST'])"
   ]
  },
  {
   "cell_type": "markdown",
   "metadata": {},
   "source": [
    "#### 2.3 使用 url_for 进行反解析"
   ]
  },
  {
   "cell_type": "code",
   "execution_count": null,
   "metadata": {},
   "outputs": [],
   "source": [
    "# 使用 url_for 进行反解析\n",
    "url_for('函数名')"
   ]
  },
  {
   "cell_type": "markdown",
   "metadata": {},
   "source": [
    "#### 2.4  动态路由"
   ]
  },
  {
   "cell_type": "code",
   "execution_count": null,
   "metadata": {},
   "outputs": [],
   "source": [
    "# 动态路由\n",
    "@app.route('/user/<int:id>')\n",
    "def hello_itcast(id):\n",
    "  return 'hello itcast %d' %id"
   ]
  },
  {
   "cell_type": "markdown",
   "metadata": {},
   "source": [
    "#### 2.5 转换器"
   ]
  },
  {
   "cell_type": "markdown",
   "metadata": {},
   "source": [
    "##### 2.5.1 内置转换器\n",
    "\n",
    "  | 类型   | 说明                       |\n",
    "  | ------ | -------------------------- |\n",
    "  | string | 默认处理方式               |\n",
    "  | int    | 接受整数                   |\n",
    "  | float  | 接受浮点数                 |\n",
    "  | path   | 和默认的相似，但也接受斜线 |"
   ]
  },
  {
   "cell_type": "markdown",
   "metadata": {},
   "source": [
    "##### 2.5.2 自定义转换器"
   ]
  },
  {
   "cell_type": "code",
   "execution_count": null,
   "metadata": {},
   "outputs": [],
   "source": [
    "# 自定义转换器\n",
    "from flask import Flask\n",
    "from werkzeug.routing import BaseConverter\n",
    "\n",
    "class Regex_url(BaseConverter):\n",
    "  def __init__(self,url_map,*args):\n",
    "      super(Regex_url,self).__init__(url_map)\n",
    "      self.regex = args[0]\n",
    "\n",
    "app = Flask(__name__)\n",
    "app.url_map.converters['re'] = Regex_url\n",
    "\n",
    "@app.route('/user/<re(\"[a-z]{3}\"):id>')\n",
    "def hello_itcast(id):\n",
    "  return 'hello %s' %id"
   ]
  },
  {
   "cell_type": "markdown",
   "metadata": {},
   "source": [
    "### 3. request 获取请求参数"
   ]
  },
  {
   "cell_type": "markdown",
   "metadata": {},
   "source": [
    "#### 3.1 导入依赖\n",
    "- from flask import request"
   ]
  },
  {
   "cell_type": "markdown",
   "metadata": {},
   "source": [
    "#### 3.2 常用属性\n",
    "\n",
    "|  属性   |              说明              |     类型      |\n",
    "| :-----: | :----------------------------: | :-----------: |\n",
    "|  data   | 记录请求的数据，并转换为字符串 |       *       |\n",
    "|  form   |       记录请求中表单数据       |   MultiDict   |\n",
    "|  args   |       记录请求中查询参数       |   MultiDict   |\n",
    "| cookies |      记录请求中cookie信息      |     Dict      |\n",
    "| headers |        记录请求中报文头        | EnvironHeader |\n",
    "| method  |    记录请求中使用的HTTP方法    |   GET/POST    |\n",
    "|   url   |       记录请求中URL地址        |    string     |\n",
    "|  files  |       记录请求中上传文件       |       *       |"
   ]
  },
  {
   "cell_type": "markdown",
   "metadata": {},
   "source": [
    "#### 3.3 上传文件 示例"
   ]
  },
  {
   "cell_type": "code",
   "execution_count": null,
   "metadata": {},
   "outputs": [],
   "source": [
    "# 上传文件 示例\n",
    "from flask import request\n",
    "from werkzeug import secure_filename\n",
    "\n",
    "@app.route('/upload', methods=['GET', 'POST'])\n",
    "def upload_file():\n",
    "  if request.method == 'POST':\n",
    "      f = request.files['the_file']\n",
    "      f.save('/var/www/uploads/' + secure_filename(f.filename))"
   ]
  },
  {
   "cell_type": "markdown",
   "metadata": {},
   "source": [
    "### 4. 请求上下文(request context)\n",
    "- request和session都属于请求上下文对象。"
   ]
  },
  {
   "cell_type": "markdown",
   "metadata": {},
   "source": [
    "### 5. 应用上下文(application context)\n",
    "- current_app和g都属于应用上下文对象。\n",
    "  - current_app:表示当前运行程序文件的程序实例。\n",
    "  - g:处理请求时，用于临时存储的对象，每次请求都会重设这个变量。"
   ]
  },
  {
   "cell_type": "markdown",
   "metadata": {},
   "source": [
    "### 6. 上下文管理器 with"
   ]
  },
  {
   "cell_type": "code",
   "execution_count": null,
   "metadata": {},
   "outputs": [],
   "source": [
    "# 示例\n",
    "with open('1.txt', 'wb') as f:\n",
    "    f.write('hello work')"
   ]
  },
  {
   "cell_type": "markdown",
   "metadata": {},
   "source": [
    "### 7. cookie"
   ]
  },
  {
   "cell_type": "markdown",
   "metadata": {},
   "source": [
    "#### 7.1 设置"
   ]
  },
  {
   "cell_type": "code",
   "execution_count": null,
   "metadata": {},
   "outputs": [],
   "source": [
    "# 设置\n",
    "resp = make_response('success')\n",
    "resp.set_cookie('cast','python')\n",
    "# 设置过期时间\n",
    "resp.set_cookie('cast1','python1', max_age=3600)"
   ]
  },
  {
   "cell_type": "markdown",
   "metadata": {},
   "source": [
    "#### 7.2 获取"
   ]
  },
  {
   "cell_type": "code",
   "execution_count": null,
   "metadata": {},
   "outputs": [],
   "source": [
    "# 获取\n",
    "request.cookies.get('cast')"
   ]
  },
  {
   "cell_type": "markdown",
   "metadata": {},
   "source": [
    "#### 7.3 删除"
   ]
  },
  {
   "cell_type": "code",
   "execution_count": null,
   "metadata": {},
   "outputs": [],
   "source": [
    "# 删除\n",
    "resp = make_response('success')\n",
    "resp.delete_cookie('cast', 'python')"
   ]
  },
  {
   "cell_type": "markdown",
   "metadata": {},
   "source": [
    "### 8. session"
   ]
  },
  {
   "cell_type": "markdown",
   "metadata": {},
   "source": [
    "#### 8.1 导入依赖\n",
    "- from flask import session"
   ]
  },
  {
   "cell_type": "markdown",
   "metadata": {},
   "source": [
    "#### 8.2 设置"
   ]
  },
  {
   "cell_type": "code",
   "execution_count": null,
   "metadata": {},
   "outputs": [],
   "source": [
    "# flask 必须设置secret_key\n",
    "app.config['SECRET_KEY'] = 'asfasdgfsdg'\n",
    "session['key'] = 'value'"
   ]
  },
  {
   "cell_type": "markdown",
   "metadata": {},
   "source": [
    "#### 8.3 获取"
   ]
  },
  {
   "cell_type": "code",
   "execution_count": null,
   "metadata": {},
   "outputs": [],
   "source": [
    "#获取\n",
    "session.get('key')"
   ]
  },
  {
   "cell_type": "markdown",
   "metadata": {},
   "source": [
    "### 9. 返回响应数据"
   ]
  },
  {
   "cell_type": "markdown",
   "metadata": {},
   "source": [
    "#### 9.1 元组\n",
    "  - 元组必须是 (response, status, headers) 的形式，且至少包含一个元素。 status 值会覆盖状态代码， headers 可以是一个列表或字典，作为额外的消息标头值"
   ]
  },
  {
   "cell_type": "code",
   "execution_count": null,
   "metadata": {},
   "outputs": [],
   "source": [
    "# 示例\n",
    "resp = make_response()\n",
    "resp.headers[“sample”] = “value”\n",
    "resp.status = “404 not found”"
   ]
  },
  {
   "cell_type": "markdown",
   "metadata": {},
   "source": [
    "#### 9.2 JSON 模块\n",
    "  - json.dumps(字典)  将python的字典转换为json字符串\n",
    "  - json.loads(字符串) 将字符串转换为python中的字典"
   ]
  },
  {
   "cell_type": "code",
   "execution_count": null,
   "metadata": {},
   "outputs": [],
   "source": [
    "# 示例\n",
    "data = {\n",
    "    'name': 'python',\n",
    "    'age': 24\n",
    "}\n",
    "jsonify(data)\n",
    "jsonify(city='zs')"
   ]
  },
  {
   "cell_type": "markdown",
   "metadata": {},
   "source": [
    "### 10. 异常处理"
   ]
  },
  {
   "cell_type": "markdown",
   "metadata": {},
   "source": [
    "#### 10.1 abort函数"
   ]
  },
  {
   "cell_type": "markdown",
   "metadata": {},
   "source": [
    "##### 10.1.1 导入依赖\n",
    "- from flask import abort"
   ]
  },
  {
   "cell_type": "markdown",
   "metadata": {},
   "source": [
    "##### 10.1.2 使用"
   ]
  },
  {
   "cell_type": "code",
   "execution_count": null,
   "metadata": {},
   "outputs": [],
   "source": [
    "# 传递状态码，必须是标准的http状态码\n",
    "abort(403)\n",
    "\n",
    "# 传递响应体信息\n",
    "resp = Response('err msg')\n",
    "abort(resp)"
   ]
  },
  {
   "cell_type": "markdown",
   "metadata": {},
   "source": [
    "#### 10.2 自定以异常"
   ]
  },
  {
   "cell_type": "code",
   "execution_count": null,
   "metadata": {},
   "outputs": [],
   "source": [
    "@app.errhandle(404)\n",
    "def handle_404_error(err):\n",
    "  ###这个函数返回前端用户看到的最终结果  ###\n",
    "  return '出现404异常，{}'.format(err)"
   ]
  },
  {
   "cell_type": "markdown",
   "metadata": {},
   "source": [
    "### 11. 请求钩子"
   ]
  },
  {
   "cell_type": "markdown",
   "metadata": {},
   "source": [
    "#### 11.1 flask 支持以下四种请求钩子：\n",
    "\n",
    "- before_first_request：在处理第一个请求前运行。 \n",
    "  - @app.before_first_request \n",
    "- before_request：在每次请求前运行。 \n",
    "- after_request(response)：如果没有未处理的异常抛出，在每次请求后运行。 \n",
    "- teardown_request(response)：在每次请求后运行，即使有未处理的异常抛出。工作在非调试模式下"
   ]
  },
  {
   "cell_type": "markdown",
   "metadata": {},
   "source": [
    "### 12. 蓝图 Blueprint\n",
    "- 蓝图：用于实现单个应用的视图、模板、静态文件的集合"
   ]
  },
  {
   "cell_type": "markdown",
   "metadata": {},
   "source": [
    "#### 12.1 使用"
   ]
  },
  {
   "cell_type": "code",
   "execution_count": null,
   "metadata": {},
   "outputs": [],
   "source": [
    "# 创建蓝图对象\n",
    "#Blueprint必须指定两个参数，admin表示蓝图的名称，__name__表示蓝图所在模块\n",
    "admin = Blueprint('admin',__name__)\n",
    "\n",
    "\n",
    "# 注册蓝图路由\n",
    "@admin.route('/')\n",
    "def admin_index():\n",
    "  return 'admin_index'\n",
    "\n",
    "# 在程序实例中注册该蓝图\n",
    "app.register_blueprint(admin,url_prefix='/admin')"
   ]
  },
  {
   "cell_type": "markdown",
   "metadata": {},
   "source": [
    "### 13. 单元测试"
   ]
  },
  {
   "cell_type": "markdown",
   "metadata": {},
   "source": [
    "#### 13.1 常用的断言方法\n",
    "- assertEqual     如果两个值相等，则pass\n",
    "- assertNotEqual  如果两个值不相等，则pass\n",
    "- assertTrue      判断bool值为True，则pass\n",
    "- assertFalse     判断bool值为False，则pass\n",
    "- assertIsNone    不存在，则pass\n",
    "- assertIsNotNone 存在，则pass"
   ]
  },
  {
   "cell_type": "markdown",
   "metadata": {},
   "source": [
    "#### 13.2 单元测试的基本写法"
   ]
  },
  {
   "cell_type": "code",
   "execution_count": null,
   "metadata": {},
   "outputs": [],
   "source": [
    "# 首先，定义一个类，继承自unittest.TestCase\n",
    "import unittest\n",
    "class TestClass(unitest.TestCase):\n",
    "    pass\n",
    "\n",
    "\n",
    "\n",
    "# 其次，在测试类中，定义两个测试方法\n",
    "import unittest\n",
    "class TestClass(unittest.TestCase):\n",
    "\n",
    "    #该方法会首先执行，方法名为固定写法\n",
    "    def setUp(self):\n",
    "        pass\n",
    "\n",
    "    #该方法会在测试代码执行完后执行，方法名为固定写法\n",
    "    def tearDown(self):\n",
    "        pass\n",
    "\n",
    "    \n",
    "# 最后，在测试类中，编写测试代码\n",
    "import unittest\n",
    "class TestClass(unittest.TestCase):\n",
    "\n",
    "    #该方法会首先执行，相当于做测试前的准备工作\n",
    "    def setUp(self):\n",
    "        pass\n",
    "\n",
    "    #该方法会在测试代码执行完后执行，相当于做测试后的扫尾工作\n",
    "    def tearDown(self):\n",
    "        pass\n",
    "    #测试代码\n",
    "    def test_app_exists(self):\n",
    "        pass"
   ]
  }
 ],
 "metadata": {
  "kernelspec": {
   "display_name": "Python 3",
   "language": "python",
   "name": "python3"
  },
  "language_info": {
   "codemirror_mode": {
    "name": "ipython",
    "version": 3
   },
   "file_extension": ".py",
   "mimetype": "text/x-python",
   "name": "python",
   "nbconvert_exporter": "python",
   "pygments_lexer": "ipython3",
   "version": "3.6.7"
  }
 },
 "nbformat": 4,
 "nbformat_minor": 2
}
