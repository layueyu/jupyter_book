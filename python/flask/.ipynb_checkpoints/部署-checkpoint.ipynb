{
 "cells": [
  {
   "cell_type": "markdown",
   "metadata": {},
   "source": [
    "#### 部署\n",
    "- Gunicorn（绿色独角兽）是一个Python WSGI的HTTP服务器\n",
    "- 安装：\n",
    "      pip install gunicorn\n",
    "- 直接运行\n",
    "      #直接运行，默认启动的127.0.0.1::8000\n",
    "      gunicorn 运行文件名称:Flask程序实例名\n",
    "- 指定进程和端口号，-w: 表示进程（worker）；-b：表示绑定ip地址和端口号\n",
    "      $gunicorn -w 4 -b 127.0.0.1:5001 运行文件名称:Flask程序实例名\n",
    "      $gunicorn -w 4 -b 127.0.0.1:5001 --access-logfile ./logs/log 运行文件名称:Flask程序实例名\n"
   ]
  }
 ],
 "metadata": {
  "kernelspec": {
   "display_name": "Python 3",
   "language": "python",
   "name": "python3"
  },
  "language_info": {
   "codemirror_mode": {
    "name": "ipython",
    "version": 3
   },
   "file_extension": ".py",
   "mimetype": "text/x-python",
   "name": "python",
   "nbconvert_exporter": "python",
   "pygments_lexer": "ipython3",
   "version": "3.6.7"
  }
 },
 "nbformat": 4,
 "nbformat_minor": 2
}
