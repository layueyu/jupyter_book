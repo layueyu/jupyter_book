{
 "cells": [
  {
   "cell_type": "markdown",
   "metadata": {},
   "source": [
    "#### 1 基本流程"
   ]
  },
  {
   "cell_type": "markdown",
   "metadata": {},
   "source": [
    "#### 1.1 模板\n",
    "\n",
    "```html\n",
    "<!DOCTYPE html>\n",
    "<html lang=\"en\">\n",
    "<head>\n",
    "  <meta charset=\"UTF-8\">\n",
    "  <title>Template</title>\n",
    "</head>\n",
    "<body>\n",
    "  <h1>hello {{ name }}</h1>\n",
    "</body>\n",
    "</html>\n",
    "```"
   ]
  },
  {
   "cell_type": "markdown",
   "metadata": {},
   "source": [
    "#### 1.2 渲染"
   ]
  },
  {
   "cell_type": "code",
   "execution_count": null,
   "metadata": {},
   "outputs": [],
   "source": [
    "# 渲染\n",
    "@app.route(\"/\")\n",
    "def index():\n",
    "  # 使用 render_template 渲染模板\n",
    "  return render_template(\"index.html\", name=\"python\")\n",
    "\n",
    "def index1():\n",
    "  data = {\n",
    "      'name': 'python'\n",
    "  }\n",
    "  #使用字典\n",
    "  return render_template(\"index.html\", **data)"
   ]
  },
  {
   "cell_type": "markdown",
   "metadata": {},
   "source": [
    "### 2. 变量"
   ]
  },
  {
   "cell_type": "markdown",
   "metadata": {},
   "source": [
    "#### 2.1 类型\n",
    "\n",
    "```html\n",
    "<p>{{mydict['key']}}</p>\n",
    "\n",
    "<p>{{mydict.key}}</p>\n",
    "\n",
    "<p>{{mylist[1]}}</p>\n",
    "\n",
    "<p>{{mylist[myvariable]}}</p>\n",
    "```"
   ]
  },
  {
   "cell_type": "markdown",
   "metadata": {},
   "source": [
    "#### 2.2 渲染"
   ]
  },
  {
   "cell_type": "code",
   "execution_count": null,
   "metadata": {},
   "outputs": [],
   "source": [
    "from flask import Flask,render_template\n",
    "app = Flask(__name__)\n",
    "\n",
    "@app.route('/')\n",
    "def index():\n",
    "  mydict = {'key':'silence is gold'}\n",
    "  mylist = ['Speech', 'is','silver']\n",
    "  myintvar = 0\n",
    "\n",
    "  return render_template('vars.html',\n",
    "                         mydict=mydict,\n",
    "                         mylist=mylist,\n",
    "                         myintvar=myintvar\n",
    "                         )\n",
    "if __name__ == '__main__':\n",
    "  app.run(debug=True)"
   ]
  },
  {
   "cell_type": "markdown",
   "metadata": {},
   "source": [
    "### 3. 过滤器"
   ]
  },
  {
   "cell_type": "markdown",
   "metadata": {},
   "source": [
    "### 3.1 字符串过滤器\n",
    "- safe：禁用转义\n",
    "\n",
    "```html\n",
    "<p>{{ '<em>hello</em>' | safe }}</p>\n",
    "```\n",
    "\n",
    "- capitalize：把变量值的首字母转成大写，其余字母转小写\n",
    "\n",
    "```html\n",
    "<p>{{ 'hello' | capitalize }}</p>\n",
    "```\n",
    "\n",
    "- lower：把值转成小写\n",
    "\n",
    "```html\n",
    "<p>{{ 'HELLO' | lower }}</p>\n",
    "```\n",
    "\n",
    "- upper：把值转成大写\n",
    "\n",
    "```html\n",
    "<p>{{ 'hello' | upper }}</p>\n",
    "```\n",
    "\n",
    "- title：把值中的每个单词的首字母都转成大写\n",
    "\n",
    "```html\n",
    "<p>{{ 'hello' | title }}</p>\n",
    "```\n",
    "\n",
    "- trim：把值的首尾空格去掉\n",
    "\n",
    "```html\n",
    "<p>{{ ' hello world ' | trim }}</p>\n",
    "```\n",
    "\n",
    "- reverse:字符串反转\n",
    "\n",
    "```html\n",
    "<p>{{ 'olleh' | reverse }}</p>\n",
    "```\n",
    "\n",
    "- format:格式化输出\n",
    "\n",
    "```html\\\n",
    " <p>{{ '%s is %d' | format('name',17) }}</p>\n",
    "```\n",
    "\n",
    "- striptags：渲染之前把值中所有的HTML标签都删掉\n",
    "\n",
    "```html\n",
    "<p>{{ '<em>hello</em>' | striptags }}</p>\n",
    "```"
   ]
  },
  {
   "cell_type": "markdown",
   "metadata": {},
   "source": [
    "#### 3.2  支持链式使用过滤器\n",
    "\n",
    "```html\n",
    "<p>{{ “ hello world  “ | trim | upper }}</p>\n",
    "```"
   ]
  },
  {
   "cell_type": "markdown",
   "metadata": {},
   "source": [
    "#### 3.3 列表过滤器\n",
    "\n",
    "- first：取第一个元素\n",
    "\n",
    "```html\n",
    "<p>{{ [1,2,3,4,5,6] | first }}</p>\n",
    "```\n",
    "\n",
    "- last：取最后一个元素\n",
    "\n",
    "```html\n",
    "<p>{{ [1,2,3,4,5,6] | last }}</p>\n",
    "```\n",
    "\n",
    "- length：获取列表长度\n",
    "\n",
    "```html\n",
    "<p>{{ [1,2,3,4,5,6] | length }}</p>\n",
    "```\n",
    "\n",
    "- sum：列表求和\n",
    "\n",
    "```html\n",
    "<p>{{ [1,2,3,4,5,6] | sum }}</p>\n",
    "```\n",
    "\n",
    "- sort：列表排序\n",
    "\n",
    "```html\n",
    "<p>{{ [6,2,3,1,5,4] | sort }}</p>\n",
    "```"
   ]
  },
  {
   "cell_type": "markdown",
   "metadata": {},
   "source": [
    "#### 3.4 自定义过滤器"
   ]
  },
  {
   "cell_type": "code",
   "execution_count": null,
   "metadata": {},
   "outputs": [],
   "source": [
    "# 方式一\n",
    "# add_template_filter (过滤器函数, 模板中使用的过滤器名字)\n",
    "def filter_double_sort(ls):\n",
    "    return ls[::2]\n",
    "app.add_template_filter(filter_double_sort,'double_2')\n",
    "\n",
    "# 方式2\n",
    "# 通过装饰器  app.template_filter (模板中使用的装饰器名字)\n",
    "@app.template_filter('db3')\n",
    "def filter_double_sort(ls):\n",
    "    return ls[::-3]"
   ]
  },
  {
   "cell_type": "markdown",
   "metadata": {},
   "source": [
    "### 4. 表单"
   ]
  },
  {
   "cell_type": "markdown",
   "metadata": {},
   "source": [
    "#### 4.1 安装\n",
    "- pip install Flask-WTF"
   ]
  },
  {
   "cell_type": "markdown",
   "metadata": {},
   "source": [
    "#### 4.2 WTForms支持的HTML标准字段\n",
    "  | 字段对象            | 说明                                |\n",
    "  | ------------------- | ----------------------------------- |\n",
    "  | StringField         | 文本字段                            |\n",
    "  | TextAreaField       | 多行文本字段                        |\n",
    "  | PasswordField       | 密码文本字段                        |\n",
    "  | HiddenField         | 隐藏文本字段                        |\n",
    "  | DateField           | 文本字段，值为datetime.date格式     |\n",
    "  | DateTimeField       | 文本字段，值为datetime.datetime格式 |\n",
    "  | IntegerField        | 文本字段，值为整数                  |\n",
    "  | DecimalField        | 文本字段，值为decimal.Decimal       |\n",
    "  | FloatField          | 文本字段，值为浮点数                |\n",
    "  | BooleanField        | 复选框，值为True和False             |\n",
    "  | RadioField          | 一组单选框                          |\n",
    "  | SelectField         | 下拉列表                            |\n",
    "  | SelectMultipleField | 下拉列表，可选择多个值              |\n",
    "  | FileField           | 文本上传字段                        |\n",
    "  | SubmitField         | 表单提交按钮                        |\n",
    "  | FormField           | 把表单作为字段嵌入另一个表单        |\n",
    "  | FieldList           | 一组指定类型的字段                  |"
   ]
  },
  {
   "cell_type": "markdown",
   "metadata": {},
   "source": [
    "#### 4.3 WTForms常用验证函数\n",
    "\n",
    "  | 验证函数     | 说明                                     |\n",
    "  | ------------ | ---------------------------------------- |\n",
    "  | DataRequired | 确保字段中有数据                         |\n",
    "  | EqualTo      | 比较两个字段的值，常用于比较两次密码输入 |\n",
    "  | Length       | 验证输入的字符串长度                     |\n",
    "  | NumberRange  | 验证输入的值在数字范围内                 |\n",
    "  | URL          | 验证URL                                  |\n",
    "  | AnyOf        | 验证输入值在可选列表中                   |\n",
    "  | NoneOf       | 验证输入值不在可选列表中                 |"
   ]
  },
  {
   "cell_type": "markdown",
   "metadata": {},
   "source": [
    "#### 4.4 使用 Flask-WTF 扩展\n",
    "- 要设置 SECRET_KEY 的配置参数"
   ]
  },
  {
   "cell_type": "markdown",
   "metadata": {},
   "source": [
    "##### 4.4.1 模板页\n",
    "\n",
    "```html\n",
    "<form method=\"post\">\n",
    "        #设置csrf_token\n",
    "        {{ form.csrf_token() }}\n",
    "        {{ form.us.label }}\n",
    "        <p>{{ form.us }}</p>\n",
    "        {{ form.ps.label }}\n",
    "        <p>{{ form.ps }}</p>\n",
    "        {{ form.ps2.label }}\n",
    "        <p>{{ form.ps2 }}</p>\n",
    "        <p>{{ form.submit() }}</p>\n",
    "        {% for x in get_flashed_messages() %}\n",
    "            {{ x }}\n",
    "        {% endfor %}\n",
    " </form>\n",
    "```"
   ]
  },
  {
   "cell_type": "markdown",
   "metadata": {},
   "source": [
    "##### 4.4.2 试图函数"
   ]
  },
  {
   "cell_type": "code",
   "execution_count": null,
   "metadata": {},
   "outputs": [],
   "source": [
    "from flask import Flask,render_template, redirect,url_for,session,request,flash\n",
    "\n",
    "#导入wtf扩展的表单类\n",
    "from flask_wtf import FlaskForm\n",
    "#导入自定义表单需要的字段\n",
    "from wtforms import SubmitField,StringField,PasswordField\n",
    "#导入wtf扩展提供的表单验证器\n",
    "from wtforms.validators import DataRequired,EqualTo\n",
    "app = Flask(__name__)\n",
    "app.config['SECRET_KEY']='1'\n",
    "\n",
    "#自定义表单类，文本字段、密码字段、提交按钮\n",
    "class Login(Flask Form):\n",
    "    us = StringField(label=u'用户：',validators=[DataRequired()])\n",
    "    ps = PasswordField(label=u'密码',validators=[DataRequired(),EqualTo('ps2','err')])\n",
    "    ps2 = PasswordField(label=u'确认密码',validators=[DataRequired()])\n",
    "    submit = SubmitField(u'提交')\n",
    "\n",
    "#定义根路由视图函数，生成表单对象，获取表单数据，进行表单数据验证\n",
    "@app.route('/',methods=['GET','POST'])\n",
    "def index():\n",
    "    form = Login()\n",
    "    if form.validate_on_submit():\n",
    "        name = form.us.data\n",
    "        pswd = form.ps.data\n",
    "        pswd2 = form.ps2.data\n",
    "        print name,pswd,pswd2\n",
    "        return redirect(url_for('login'))\n",
    "    else:\n",
    "        if request.method=='POST':\n",
    "flash(u'信息有误，请重新输入！')\n",
    "\n",
    "    return render_template('index.html',form=form)\n",
    "if __name__ == '__main__':\n",
    "    app.run(debug=True)"
   ]
  },
  {
   "cell_type": "markdown",
   "metadata": {},
   "source": [
    "#### 4.5 控制语句"
   ]
  },
  {
   "cell_type": "markdown",
   "metadata": {},
   "source": [
    "##### 4.5.1 if语句\n",
    "\n",
    "```html\n",
    "{% if %} \n",
    "{% endif %}\n",
    "```"
   ]
  },
  {
   "cell_type": "markdown",
   "metadata": {},
   "source": [
    "##### 44.5.2 for语句\n",
    "\n",
    "```html\n",
    "{% for item in samples %} \n",
    "\n",
    "{% endfor %}\n",
    "```"
   ]
  },
  {
   "cell_type": "markdown",
   "metadata": {},
   "source": [
    "#### 4.6 宏"
   ]
  },
  {
   "cell_type": "markdown",
   "metadata": {},
   "source": [
    "##### 4.6.1 不带参数宏\n",
    "\n",
    "- 定义：\n",
    "\n",
    "```html\n",
    "{% macro input() %}\n",
    "\n",
    "  <input type=\"text\"\n",
    "\n",
    "         name=\"username\"\n",
    "\n",
    "         value=\"\"\n",
    "\n",
    "         size=\"30\"/>\n",
    "\n",
    "{% endmacro %}\n",
    "```\n",
    "\n",
    "- 使用\n",
    "\n",
    "```html\n",
    "{{ input() }}\n",
    "```\n"
   ]
  },
  {
   "cell_type": "markdown",
   "metadata": {},
   "source": [
    "##### 4.6.2 带参数宏\n",
    "\n",
    "- 定义：\n",
    "\n",
    "```html\n",
    "{% macro input(name,value='',type='text',size=20) %}\n",
    "    <input type=\"{{ type }}\"\n",
    "           name=\"{{ name }}\"\n",
    "           value=\"{{ value }}\"\n",
    "           size=\"{{ size }}\"/>\n",
    "{% endmacro %}\n",
    "```\n",
    "\n",
    "- 使用\n",
    "\n",
    "```html\n",
    "{{ input(value='name',type='password',size=40)}}\n",
    "```"
   ]
  },
  {
   "cell_type": "markdown",
   "metadata": {},
   "source": [
    "##### 4.6.3 将宏单独封装在html文件中\n",
    "\n",
    "- 文件名可以自定义macro.html\n",
    "\n",
    "```html\n",
    "{% macro input() %}\n",
    "\n",
    "    <input type=\"text\" name=\"username\" placeholde=\"Username\">\n",
    "    <input type=\"password\" name=\"password\" placeholde=\"Password\">\n",
    "    <input type=\"submit\">\n",
    "{% endmacro %}\n",
    "```\n",
    "\n",
    "- 在其它模板文件中先导入，再调用\n",
    "\n",
    "```html\n",
    "{% import 'macro.html' as func %}\n",
    "{% func.input() %}\n",
    "```"
   ]
  },
  {
   "cell_type": "markdown",
   "metadata": {},
   "source": [
    "#### 4.7 模板继承\n",
    "\n",
    "- 父模板：base.html\n",
    "\n",
    "  ```html\n",
    "   {% block top %}\n",
    "      顶部菜单\n",
    "    {% endblock top %}\n",
    "  \n",
    "    {% block content %}\n",
    "    {% endblock content %}\n",
    "  \n",
    "    {% block bottom %}\n",
    "      底部\n",
    "    {% endblock bottom %}\n",
    "  ```\n",
    "\n",
    "- 子模版：\n",
    "\n",
    "  ```html\n",
    "  {% extends 'base.html' %}\n",
    "  {% block content %}\n",
    "  需要填充的内容\n",
    "  {% endblock content %}\n",
    "  ```\n",
    "\n",
    "  - 模板继承使用时注意点：\n",
    "    - 不支持多继承。\n",
    "    - 为了便于阅读，在子模板中使用extends时，尽量写在模板的第一行。\n",
    "    - 不能在一个模板文件中定义多个相同名字的block标签。\n",
    "    - 当在页面中使用多个block标签时，建议给结束标签起个名字，当多个block嵌套时，阅读性更好"
   ]
  },
  {
   "cell_type": "markdown",
   "metadata": {},
   "source": [
    "#### 4.8 包含\n",
    "\n",
    "- Jinja2模板中，除了宏和继承，还支持一种代码重用的功能，叫包含(Include)。它的功能是将另一个模板整个加载到当前模板中，并直接渲染。\n",
    "\n",
    "- 示例：\n",
    "  - include的使用\n",
    "\n",
    "    ```html\n",
    "    {\\% include 'hello.html' %}\n",
    "    ```\n",
    "\n",
    "- 包含在使用时，如果包含的模板文件不存在时，程序会抛出TemplateNotFound异常，可以加上ignore missing关键字。如果包含的模板文件不存在，会忽略这条include语句。\n",
    "\n",
    "  示例：\n",
    "\n",
    "  include的使用加上关键字ignore missing\n",
    "\n",
    "  ```html\n",
    "  {\\% include 'hello.html' ignore missing %}\n",
    "  ```\n",
    "\n",
    "- 宏、继承、包含：\n",
    "\n",
    "  - 宏(Macro)、继承(Block)、包含(include)均能实现代码的复用。\n",
    "  - 继承(Block)的本质是代码替换，一般用来实现多个页面中重复不变的区域。\n",
    "  - 宏(Macro)的功能类似函数，可以传入参数，需要定义、调用。\n",
    "  - 包含(include)是直接将目标模板文件整个渲染出来。"
   ]
  },
  {
   "cell_type": "markdown",
   "metadata": {},
   "source": [
    "#### 4.9 Flask中的特殊变量和方法\n",
    "-  在Flask中，有一些特殊的变量和方法是可以在模板文件中直接访问的"
   ]
  },
  {
   "cell_type": "markdown",
   "metadata": {},
   "source": [
    "##### 4.9.1 config 对象\n",
    "\n",
    "```html\n",
    "config 对象就是Flask的config对象，也就是 app.config 对象。\n",
    "\n",
    "{{ config.SQLALCHEMY_DATABASE_URI }}\n",
    "```"
   ]
  },
  {
   "cell_type": "markdown",
   "metadata": {},
   "source": [
    "##### 4.9.2 request 对象\n",
    "- 就是 Flask 中表示当前请求的 request 对象，request对象中保存了一次HTTP请求的一切信息。"
   ]
  },
  {
   "cell_type": "markdown",
   "metadata": {},
   "source": [
    "##### 4.9.2.1 request常用的属性如下:\n",
    "\n",
    "    | 属性    | 说明                           | 类型           |\n",
    "    | ------- | ------------------------------ | -------------- |\n",
    "    | data    | 记录请求的数据，并转换为字符串 | *              |\n",
    "    | form    | 记录请求中的表单数据           | MultiDict      |\n",
    "    | args    | 记录请求中的查询参数           | MultiDict      |\n",
    "    | cookies | 记录请求中的cookie信息         | Dict           |\n",
    "    | headers | 记录请求中的报文头             | EnvironHeaders |\n",
    "    | method  | 记录请求使用的HTTP方法         | GET/POST       |\n",
    "    | url     | 记录请求的URL地址              | string         |\n",
    "    | files   | 记录请求上传的文件             | *              |\n",
    "    \n",
    "- 使用：\n",
    "    \n",
    "```html\n",
    "{{ request.url }}\n",
    "```"
   ]
  },
  {
   "cell_type": "markdown",
   "metadata": {},
   "source": [
    "##### 4.9.3 url_for 方法\n",
    "- url_for() 会返回传入的路由函数对应的URL，所谓路由函数就是被 app.route() 路由装饰器装饰的函数。如果我们定义的路由函数是带有参数的，则可以将这些参数作为命名参数传入\n",
    "\n",
    "- 使用：\n",
    "\n",
    "```html\n",
    "{{ url_for('index') }}\n",
    "\n",
    "{{ url_for('post', post_id=1024) }}\n",
    "```"
   ]
  },
  {
   "cell_type": "markdown",
   "metadata": {},
   "source": [
    "##### 4.9.4 get_flashed_messages方法\n",
    "- 返回之前在Flask中通过 flash() 传入的信息列表。把字符串对象表示的消息加入到一个消息队列中，然后通过调用 get_flashed_messages() 方法取出。\n",
    "\n",
    "- 使用:\n",
    "\n",
    "```html\n",
    "{% for message in get_flashed_messages() %}\n",
    "    {{ message }}\n",
    "{% endfor %}\n",
    "```"
   ]
  }
 ],
 "metadata": {
  "kernelspec": {
   "display_name": "Python 3",
   "language": "python",
   "name": "python3"
  },
  "language_info": {
   "codemirror_mode": {
    "name": "ipython",
    "version": 3
   },
   "file_extension": ".py",
   "mimetype": "text/x-python",
   "name": "python",
   "nbconvert_exporter": "python",
   "pygments_lexer": "ipython3",
   "version": "3.6.7"
  }
 },
 "nbformat": 4,
 "nbformat_minor": 2
}
