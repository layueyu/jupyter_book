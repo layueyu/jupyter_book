{
 "cells": [
  {
   "cell_type": "markdown",
   "metadata": {},
   "source": [
    "### 1. Flask-Script 命令行扩展"
   ]
  },
  {
   "cell_type": "markdown",
   "metadata": {},
   "source": [
    "##### 1.1 安装\n",
    "- pip3 install Flask-Script"
   ]
  },
  {
   "cell_type": "markdown",
   "metadata": {},
   "source": [
    "#### 1.2 示例"
   ]
  },
  {
   "cell_type": "code",
   "execution_count": null,
   "metadata": {},
   "outputs": [],
   "source": [
    "# 使用\n",
    "\n",
    "from flask import Flask\n",
    "from flask_script import Manager\n",
    "\n",
    "app = Flask(__name__)\n",
    "\n",
    "manager = Manager(app)\n",
    "\n",
    "@app.route('/')\n",
    "def index():\n",
    "    return '床前明月光'\n",
    "\n",
    "if __name__ == \"__main__\":\n",
    "    manager.run() "
   ]
  },
  {
   "cell_type": "markdown",
   "metadata": {},
   "source": [
    "### 2. session 扩展"
   ]
  },
  {
   "cell_type": "markdown",
   "metadata": {},
   "source": [
    "#### 2.1 安装\n",
    "- pip3 install Flask-Session"
   ]
  },
  {
   "cell_type": "markdown",
   "metadata": {},
   "source": [
    "### 3. redis 扩展"
   ]
  },
  {
   "cell_type": "markdown",
   "metadata": {},
   "source": [
    "#### 3.1 安装\n",
    "- pip3 install redis"
   ]
  },
  {
   "cell_type": "markdown",
   "metadata": {},
   "source": [
    "#### 3.2 示例"
   ]
  },
  {
   "cell_type": "code",
   "execution_count": null,
   "metadata": {},
   "outputs": [],
   "source": [
    "import redis\n",
    "\n",
    "redis.StrictRedis(host='127.0.0.1', port=6379, db=1)"
   ]
  },
  {
   "cell_type": "markdown",
   "metadata": {},
   "source": [
    "### 4. flask_celery 异步任务"
   ]
  },
  {
   "cell_type": "markdown",
   "metadata": {},
   "source": [
    "#### 4.1 celery 简介：\n",
    "- Celery 是一个简单、灵活且可靠的，处理大量消息的分布式系统，并且提供维护这样一个系统的必需工具。\n",
    "- 它是一个专注于实时处理的任务队列，同时也支持任务调度。\n",
    "- 帮助：\n",
    "    - [Celery 3.1 的文档](http://docs.jinkan.org/docs/celery/getting-started/index.html)\n",
    "    \n",
    "- 模式:\n",
    "\n",
    "| 客户端 | F |         中间件          | F | 任务处理者（worker） |\n",
    "| :----: | :------------: | :---------------------: | :--------------: | :------------------: |\n",
    "|   c   | 任务发送到 --> |   任务队列（broker）    | <-- 获取任务处理 |          w          |\n",
    "|   c   |  获取结果-->   | 存放结果数据（backend） |   <-- 存放结果   |          w          |\n",
    "\n",
    "\n",
    "- 说明：\n",
    "    - 客户端：\n",
    "        - 发布任务： django,flask,..\n",
    "        - 客户端：\n",
    "            ```python\n",
    "            celery_app = ()\n",
    "            # 定义任务\n",
    "            @celery_app.task\n",
    "            def send_sms():\n",
    "                pass\n",
    "\n",
    "            # 发布任务\n",
    "            send_sms.delay()\n",
    "            ```\n",
    "   - 处理者\n",
    "        - 执行任务\n",
    "        - 多进程（默认）\n",
    "        - 协程 gevent、greenlet\n",
    "        - worker：\n",
    "            ```python\n",
    "            celery_app = ()\n",
    "            # 定义任务\n",
    "            @celery_app.task\n",
    "            def send_sms():\n",
    "                # 完整业务逻辑实现\n",
    "                pass\n",
    "            ```\n",
    "        - 开启worker\n",
    "            - celery -A 定义任务的python模块 worker -L info"
   ]
  },
  {
   "cell_type": "markdown",
   "metadata": {},
   "source": [
    "#### 4.2 安装依赖\n",
    "- pip3 install flask-celery"
   ]
  },
  {
   "cell_type": "markdown",
   "metadata": {},
   "source": [
    "#### 4.3 示例1， 单文件模式"
   ]
  },
  {
   "cell_type": "code",
   "execution_count": null,
   "metadata": {},
   "outputs": [],
   "source": [
    "from celery import Celery\n",
    "\n",
    "# 定义Celery对象\n",
    "celery_app = Celery('ihome', broker='redis://127.0.0.1:6379/15')\n",
    "\n",
    "\n",
    "@celery_app.task\n",
    "def send_sms(to, datas, temp_id):\n",
    "    \"\"\" 发送短信异步任务\"\"\"\n",
    "    # 此处短信发布代码省略\n",
    "\n",
    "    print('to:{}, datas={}, temp_id={}'.format(to, datas, temp_id))"
   ]
  },
  {
   "cell_type": "code",
   "execution_count": null,
   "metadata": {},
   "outputs": [],
   "source": [
    "# celery 开启异步任务命令\n",
    "# celery -A ihome.tasks.task_sms worker -l info"
   ]
  },
  {
   "cell_type": "markdown",
   "metadata": {},
   "source": [
    "#### 4.4 示例2， 目录模式"
   ]
  },
  {
   "cell_type": "code",
   "execution_count": null,
   "metadata": {},
   "outputs": [],
   "source": [
    "# 定义配置文集 setting.py\n",
    "\n",
    "# BROKER\n",
    "BROKER_URL = 'redis://127.0.0.1:6379/15'\n",
    "\n",
    "# BACKEND\n",
    "CELERY_RESULT_BACKEND = 'redis://127.0.0.1:6379/13'"
   ]
  },
  {
   "cell_type": "code",
   "execution_count": null,
   "metadata": {},
   "outputs": [],
   "source": [
    "# 定义启动文件 celery.py\n",
    "\n",
    "from celery import Celery\n",
    "from ihome.tasks import setting\n",
    "\n",
    "# 定义Celery对象\n",
    "celery_app = Celery('ihome')\n",
    "\n",
    "# 引入配置信息\n",
    "celery_app.config_from_object(setting)\n",
    "\n",
    "# 自动搜索任务\n",
    "celery_app.autodiscover_tasks(['ihome.tasks.sms'])"
   ]
  },
  {
   "cell_type": "code",
   "execution_count": null,
   "metadata": {},
   "outputs": [],
   "source": [
    "# 定义任务， sms/tasks.py\n",
    "# 此处 tasks.py 是固定名称， 为了便于 celery 自动搜索异步任务\n",
    "\n",
    "from ihome.tasks.celery import celery_app\n",
    "\n",
    "\n",
    "@celery_app.task\n",
    "def send_sms(to, datas, temp_id):\n",
    "    \"\"\" 发送短信异步任务\"\"\"\n",
    "    # 此处短信发布代码省略\n",
    "    print('to:{}, datas={}, temp_id={}'.format(to, datas, temp_id))"
   ]
  },
  {
   "cell_type": "code",
   "execution_count": null,
   "metadata": {},
   "outputs": [],
   "source": [
    "# celery 开启异步任务命令\n",
    "# celery -A ihome.tasks.celery worker -l info"
   ]
  }
 ],
 "metadata": {
  "kernelspec": {
   "display_name": "Python 3",
   "language": "python",
   "name": "python3"
  },
  "language_info": {
   "codemirror_mode": {
    "name": "ipython",
    "version": 3
   },
   "file_extension": ".py",
   "mimetype": "text/x-python",
   "name": "python",
   "nbconvert_exporter": "python",
   "pygments_lexer": "ipython3",
   "version": "3.6.7"
  }
 },
 "nbformat": 4,
 "nbformat_minor": 2
}
