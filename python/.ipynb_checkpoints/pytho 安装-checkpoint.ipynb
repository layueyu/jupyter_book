{
 "cells": [
  {
   "cell_type": "markdown",
   "metadata": {},
   "source": [
    "### 1 centos 安装 python3\n",
    "##### 1.1 下载python3源码包\n",
    "- `wget https://www.python.org/ftp/python/3.7.1/Python-3.7.1.tgz`\n",
    "\n",
    "##### 1.2 安装依赖\n",
    "- `yum install gcc zlib-devel libffi-devel openssl-devel`\n",
    "\n",
    "##### 1.3 解包 Python-3.7.1.tgz\n",
    "- `tar -xvzf Python-3.7.1.tgz`\n",
    "\n",
    "##### 1.4. 进入解压目录\n",
    "- `cd Python-3.7.1`\n",
    "\n",
    "##### 1.5 执行如下命令\n",
    "- `./configure`\n",
    "- `make`\n",
    "- `make install`"
   ]
  },
  {
   "cell_type": "code",
   "execution_count": null,
   "metadata": {},
   "outputs": [],
   "source": []
  }
 ],
 "metadata": {
  "kernelspec": {
   "display_name": "Python 3",
   "language": "python",
   "name": "python3"
  },
  "language_info": {
   "codemirror_mode": {
    "name": "ipython",
    "version": 3
   },
   "file_extension": ".py",
   "mimetype": "text/x-python",
   "name": "python",
   "nbconvert_exporter": "python",
   "pygments_lexer": "ipython3",
   "version": "3.6.7"
  }
 },
 "nbformat": 4,
 "nbformat_minor": 2
}
