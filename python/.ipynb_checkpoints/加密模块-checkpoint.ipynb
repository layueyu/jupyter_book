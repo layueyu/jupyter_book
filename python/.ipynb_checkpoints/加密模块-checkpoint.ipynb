{
 "cells": [
  {
   "cell_type": "markdown",
   "metadata": {},
   "source": [
    "#### hashlib 模块"
   ]
  },
  {
   "cell_type": "code",
   "execution_count": null,
   "metadata": {},
   "outputs": [],
   "source": [
    "# md5 \n",
    "import hashlib\n",
    "\n",
    "# 创建对象\n",
    "ha_m5 = hashlib.md5()\n",
    "\n",
    "# 添加对象， 指定编码\n",
    "ha_m5.update('abc'.encode(encoding='utf-8'))\n",
    "\n",
    "# 以二进制格式显示加密信息\n",
    "print(ha_m5.digest())\n",
    "\n",
    "# 以十六进制格式显示加密信息\n",
    "print(ha_m5.hexdigest())"
   ]
  },
  {
   "cell_type": "code",
   "execution_count": null,
   "metadata": {},
   "outputs": [],
   "source": [
    "# SHA-1\n",
    "ha_s1 = hashlib.sha1()\n",
    "ha_s1.update('abc'.encode(encoding='utf-8'))\n",
    "print(ha_s1.digest())\n",
    "print(ha_s1.hexdigest())"
   ]
  },
  {
   "cell_type": "code",
   "execution_count": null,
   "metadata": {},
   "outputs": [],
   "source": [
    "# SHA-224\n",
    "ha_s224 = hashlib.sha224()\n",
    "ha_s224.update('abc'.encode(encoding='utf-8'))\n",
    "print(ha_s224.digest())\n",
    "print(ha_s224.hexdigest())"
   ]
  },
  {
   "cell_type": "code",
   "execution_count": null,
   "metadata": {},
   "outputs": [],
   "source": [
    "# SHA-256\n",
    "ha_s256 = hashlib.sha256()\n",
    "ha_s256.update('abc'.encode(encoding='utf-8'))\n",
    "print(ha_s256.digest())\n",
    "print(ha_s256.hexdigest())"
   ]
  },
  {
   "cell_type": "code",
   "execution_count": null,
   "metadata": {},
   "outputs": [],
   "source": [
    "# SHA-384\n",
    "ha_s384 = hashlib.sha384()\n",
    "ha_s384.update('abc'.encode(encoding='utf-8'))\n",
    "print(ha_s384.digest())\n",
    "print(ha_s384.hexdigest())"
   ]
  },
  {
   "cell_type": "code",
   "execution_count": null,
   "metadata": {},
   "outputs": [],
   "source": [
    "# SHA-512\n",
    "ha_s512 = hashlib.sha512()\n",
    "ha_s512.update('abc'.encode(encoding='utf-8'))\n",
    "print(ha_s512.digest())\n",
    "print(ha_s512.hexdigest())"
   ]
  },
  {
   "cell_type": "markdown",
   "metadata": {},
   "source": [
    "#### hmac模块"
   ]
  },
  {
   "cell_type": "code",
   "execution_count": null,
   "metadata": {},
   "outputs": [],
   "source": [
    "import hmac\n",
    "hm = hmac.new(b'abc')\n",
    "hm = hmac.new('萨芬'.encode(encoding='utf-8'),b'bads')\n",
    "print(hm.digest())\n",
    "print(hm.hexdigest())"
   ]
  },
  {
   "cell_type": "code",
   "execution_count": null,
   "metadata": {},
   "outputs": [],
   "source": []
  }
 ],
 "metadata": {
  "kernelspec": {
   "display_name": "Python 3",
   "language": "python",
   "name": "python3"
  },
  "language_info": {
   "codemirror_mode": {
    "name": "ipython",
    "version": 3
   },
   "file_extension": ".py",
   "mimetype": "text/x-python",
   "name": "python",
   "nbconvert_exporter": "python",
   "pygments_lexer": "ipython3",
   "version": "3.6.7"
  }
 },
 "nbformat": 4,
 "nbformat_minor": 2
}
