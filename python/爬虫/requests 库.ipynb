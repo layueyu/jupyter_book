{
 "cells": [
  {
   "cell_type": "markdown",
   "metadata": {},
   "source": [
    "### 1. 简单使用（无请求头）"
   ]
  },
  {
   "cell_type": "code",
   "execution_count": null,
   "metadata": {
    "scrolled": true
   },
   "outputs": [],
   "source": [
    "import requests\n",
    "\n",
    "# 发送请求\n",
    "response = requests.get('http://www.baidu.com')\n",
    "\n",
    "# 获取内容\n",
    "response.text\n",
    "\n",
    "# 获取响应内容\n",
    "content = response.content\n",
    "print('响应内容：{}'.format(content.decode()))\n",
    "print()\n",
    "\n",
    "# 状态码\n",
    "status_code = response.status_code\n",
    "assert status_code==200, '请求失败'  # 使用断言判断结果\n",
    "print('状态码：{}'.format(status_code))\n",
    "print()\n",
    "\n",
    "# 请求头\n",
    "req_headers = response.request.headers\n",
    "print('请求头：{}'.format(req_headers))\n",
    "\n",
    "# 响应头\n",
    "headers = response.headers\n",
    "print('响应头：{}'.format(headers))\n",
    "print()\n",
    "\n",
    "# 请求url\n",
    "req_url = response.request.url\n",
    "print('请求URL：{}'.format(req_url))\n",
    "\n",
    "# 响应url\n",
    "url = response.url\n",
    "print('响应URL：{}'.format(req_url))"
   ]
  },
  {
   "cell_type": "markdown",
   "metadata": {},
   "source": [
    "### 2. 简单使用（带请求头）"
   ]
  },
  {
   "cell_type": "code",
   "execution_count": null,
   "metadata": {},
   "outputs": [],
   "source": [
    "import requests\n",
    "\n",
    "# 设置headers\n",
    "headers = {\n",
    "    'User-Agent': 'Mozilla/5.0 (X11; Ubuntu; Linux x86_64; rv:64.0) Gecko/20100101 Firefox/64.0'\n",
    "}\n",
    "\n",
    "# 发送请求\n",
    "response = requests.get('http://www.baidu.com', headers=headers)\n",
    "\n",
    "# 状态码\n",
    "status_code = response.status_code\n",
    "assert status_code==200, '请求失败'  # 使用断言判断结果\n",
    "print('状态码：{}'.format(status_code))\n",
    "\n",
    "# 获取响应内容\n",
    "content = response.content\n",
    "print('响应内容：{}'.format(content.decode()))"
   ]
  },
  {
   "cell_type": "markdown",
   "metadata": {},
   "source": [
    "### 3. 简单使用（带参数）"
   ]
  },
  {
   "cell_type": "code",
   "execution_count": null,
   "metadata": {},
   "outputs": [],
   "source": [
    "# 参数形式： 字典\n",
    "\n",
    "import requests\n",
    "\n",
    "# 设置headers\n",
    "headers = {\n",
    "    'User-Agent': 'Mozilla/5.0 (X11; Ubuntu; Linux x86_64; rv:64.0) Gecko/20100101 Firefox/64.0'\n",
    "}\n",
    "\n",
    "# 设置headers\n",
    "parm = {\n",
    "    'wd': '长城'\n",
    "}\n",
    "\n",
    "# 发送请求\n",
    "response = requests.get('https://www.baidu.com/s', params=parm, headers=headers)\n",
    "\n",
    "# 状态码\n",
    "status_code = response.status_code\n",
    "assert status_code==200, '请求失败'  # 使用断言判断结果\n",
    "print('状态码：{}'.format(status_code))\n",
    "\n",
    "# 获取响应内容\n",
    "content = response.content\n",
    "print('响应内容：{}'.format(content.decode()))"
   ]
  },
  {
   "cell_type": "markdown",
   "metadata": {},
   "source": [
    "### 4. demo1"
   ]
  },
  {
   "cell_type": "code",
   "execution_count": null,
   "metadata": {},
   "outputs": [],
   "source": [
    "import requests\n",
    "\n",
    "\n",
    "class TiebaSpider:\n",
    "\n",
    "    def __init__(self, tieba_name):\n",
    "        \"\"\"初始化\"\"\"\n",
    "        self.tieba_name = tieba_name\n",
    "        self.url_temp = 'http://tieba.baidu.com/f?ie=utf-8&kw='+tieba_name+'&pn={}'\n",
    "        self.headers = {\n",
    "            'User-Agent': 'Mozilla/5.0 (X11; Ubuntu; Linux x86_64; rv:64.0) Gecko/20100101 Firefox/64.0'\n",
    "        }\n",
    "\n",
    "    def get_url_list(self):\n",
    "        \"\"\"构造url列表\"\"\"\n",
    "        url_list = [self.url_temp.format(i*50) for i in range(5)]\n",
    "        return url_list\n",
    "\n",
    "    def parse_url(self, url):\n",
    "        \"\"\"发送请求，获取响应\"\"\"\n",
    "        print(url)\n",
    "        response = requests.get(url=url, headers=self.headers)\n",
    "        return response.content.decode(encoding='utf-8')\n",
    "\n",
    "    def save_html(self, html_str, page_num):\n",
    "        \"\"\"保存html字符串\"\"\"\n",
    "        file_path = '{}-第{}页.html'.format(self.tieba_name, page_num)\n",
    "        with open(file_path, 'w', encoding='utf-8') as f:\n",
    "            f.write(html_str)\n",
    "\n",
    "    def run(self):\n",
    "        # 1. 构造url列表\n",
    "        url_list = self.get_url_list()\n",
    "\n",
    "        # 2. 遍历，发送请求， 获取响应\n",
    "        for url in url_list:\n",
    "            html_str = self.parse_url(url=url)\n",
    "            page_num = url_list.index(url)+1  # 页数\n",
    "            # 3. 保存\n",
    "            self.save_html(html_str, page_num)\n",
    "\n",
    "\n",
    "if __name__ == '__main__':\n",
    "    tieba_spider = TiebaSpider('python')\n",
    "    tieba_spider.run()"
   ]
  },
  {
   "cell_type": "markdown",
   "metadata": {},
   "source": [
    "### 5. 发送POST请求"
   ]
  },
  {
   "cell_type": "code",
   "execution_count": null,
   "metadata": {},
   "outputs": [],
   "source": [
    "# data形式： 字典\n",
    "# 翻译模块- 借助百度翻译\n",
    "import requests\n",
    "import json\n",
    "\n",
    "# 设置 消息头\n",
    "headers = {\n",
    "    'User-Agent': 'Mozilla/5.0 (Linux; Android 7.0; SM-G892A Build/NRD90M; wv) AppleWebKit/537.36 (KHTML, like Gecko) Version/4.0 Chrome/67.0.3396.87 Mobile Safari/537.36'\n",
    "}\n",
    "\n",
    "# 要翻译的文字\n",
    "str = '书'\n",
    "\n",
    "\n",
    "# 语言检测\n",
    "data = {\n",
    "    'query': str\n",
    "}\n",
    "post_url = 'https://fanyi.baidu.com/langdetect'\n",
    "r = requests.post(post_url, data=data, headers=headers)\n",
    "dict_ret = json.loads(r.content.decode())\n",
    "from_lan = dict_ret['lan']\n",
    "\n",
    "# 语言翻译\n",
    "data = {\n",
    "    'query': str,\n",
    "    'from': from_lan,\n",
    "    'to': 'en'\n",
    "}\n",
    "\n",
    "post_url = 'https://fanyi.baidu.com/basetrans'\n",
    "\n",
    "r = requests.post(post_url, data=data, headers=headers)\n",
    "\n",
    "dict_ret = json.loads(r.content.decode())\n",
    "ret = dict_ret['trans'][0]['dst']\n",
    "print('result is:', ret)"
   ]
  },
  {
   "cell_type": "markdown",
   "metadata": {},
   "source": [
    "### 6. 使用代理"
   ]
  },
  {
   "cell_type": "code",
   "execution_count": null,
   "metadata": {},
   "outputs": [],
   "source": [
    "# proxies 的形式： 字典\n",
    "# 免费代理地址： \n",
    "# https://proxy.mimvp.com/free.php（米扑代理）\n",
    "# https://proxy.coderbusy.com/（码农很忙）\n",
    "# https://www.kuaidaili.com/free/（快代理）\n",
    "# https://www.xicidaili.com/nn/(国内高匿代理IP)\n",
    "import requests\n",
    "import json\n",
    "\n",
    "headers = {\n",
    "    'User-Agent': 'Mozilla/5.0 (Linux; Android 7.0; SM-G892A Build/NRD90M; wv) AppleWebKit/537.36 (KHTML, like Gecko) Version/4.0 Chrome/67.0.3396.87 Mobile Safari/537.36'\n",
    "}\n",
    "\n",
    "# 配置代理\n",
    "proxies = {\n",
    "    'http': 'http://119.101.113.49:9999',\n",
    "    'https': 'http://119.101.113.49:9999'\n",
    "}\n",
    "\n",
    "r = requests.get('https://www.baidu.com', proxies=proxies, headers=headers)\n",
    "print('状态码：',r.status_code)"
   ]
  },
  {
   "cell_type": "markdown",
   "metadata": {},
   "source": [
    "##### 6.1 使用代理\n",
    "- 准备一个代理IP池，随机选择一个ip\n",
    "- 如何随机选择代理IP\n",
    "    - {'ip':ip, 'times':0 }\n",
    "    - 对IP的列表进行排序， 按到使用次数排序\n",
    "    - 选择使用次数较少的10个ip， 从中随机选择一个\n",
    "- 检查ip的可用性\n",
    "    - 添加超时参数， 判断ip地址质量\n",
    "    - 在线代理ip质量检测的网站"
   ]
  },
  {
   "cell_type": "markdown",
   "metadata": {},
   "source": [
    "### 7. cookie 和 session"
   ]
  },
  {
   "cell_type": "code",
   "execution_count": null,
   "metadata": {},
   "outputs": [],
   "source": [
    "# 使用\n",
    "\n",
    "import requests\n",
    "import json\n",
    "\n",
    "headers = {\n",
    "    'User-Agent': 'Mozilla/5.0 (Linux; Android 7.0; SM-G892A Build/NRD90M; wv) AppleWebKit/537.36 (KHTML, like Gecko) Version/4.0 Chrome/67.0.3396.87 Mobile Safari/537.36'\n",
    "}\n",
    "\n",
    "session = requests.session()\n",
    "r = requests.get('https://www.baidu.com', headers=headers)\n",
    "print('状态码：',r.status_code)"
   ]
  },
  {
   "cell_type": "markdown",
   "metadata": {},
   "source": [
    "### 8. 保存图片"
   ]
  },
  {
   "cell_type": "code",
   "execution_count": null,
   "metadata": {},
   "outputs": [],
   "source": [
    "r = requests.get('https://www.baidu.com/img/baidu_jgylogo3.gif')\n",
    "\n",
    "with open('a.gif', 'wb') as f:\n",
    "    f.write(r.content)"
   ]
  }
 ],
 "metadata": {
  "kernelspec": {
   "display_name": "Python 3",
   "language": "python",
   "name": "python3"
  },
  "language_info": {
   "codemirror_mode": {
    "name": "ipython",
    "version": 3
   },
   "file_extension": ".py",
   "mimetype": "text/x-python",
   "name": "python",
   "nbconvert_exporter": "python",
   "pygments_lexer": "ipython3",
   "version": "3.6.7"
  }
 },
 "nbformat": 4,
 "nbformat_minor": 2
}
