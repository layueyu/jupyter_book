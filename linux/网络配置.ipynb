{
 "cells": [
  {
   "cell_type": "markdown",
   "metadata": {},
   "source": [
    "- 基础网络配置\n",
    "    - 主机名设置\n",
    "        - centos 7\n",
    "            - 查看主机名\n",
    "                - hostname\n",
    "            - 修改主机名\n",
    "                - hostnamectl set-hostname 主机名 \n",
    "    - 相关文件\n",
    "        - /etc/hosts\n",
    "            - 主机名与I地址间的对应关系\n",
    "        - /etc/hosts.conf\n",
    "            - 指定域名搜索顺序\n",
    "        - /etc/hosts.allow\n",
    "            - 指定允许登陆的设置\n",
    "        - /etc/hosts.deny\n",
    "            - 指定禁止登陆的设置"
   ]
  },
  {
   "cell_type": "markdown",
   "metadata": {},
   "source": [
    "- 使用命令配置\n",
    "    - nmcli 命令用来配置网络管理\n",
    "    - nmcli connection show [连接名] #查看连接信息\n",
    "    - nmcli device show  #查看设备信息\n",
    "    - ip addr show / ifconfig #查看网络IP地址\n",
    "    - ping 192.168.0.1 #测试网络连通性\n",
    "        - -c 指定发送数据包的次数\n",
    "        - -f 快速大量的向目标主机发送数据包\n",
    "        - -p patten 指定数据包的模式\n",
    "        - -s 制定数据包的尺寸\n",
    "    - 配置命令\n",
    "        - nmcli connection up eht1 #启动你的网卡配置，生效\n",
    "        - nmcli device status #查看网络设备状态信息\n",
    "        - nmcli connection delete eth0 #删除eth0的配置信息\n",
    "        - nmcli connection add ... 增加一条配置\n",
    "        - nmcli connection modify... 修改配置信息"
   ]
  }
 ],
 "metadata": {
  "kernelspec": {
   "display_name": "Bash",
   "language": "bash",
   "name": "bash"
  },
  "language_info": {
   "codemirror_mode": "shell",
   "file_extension": ".sh",
   "mimetype": "text/x-sh",
   "name": "bash"
  }
 },
 "nbformat": 4,
 "nbformat_minor": 2
}
