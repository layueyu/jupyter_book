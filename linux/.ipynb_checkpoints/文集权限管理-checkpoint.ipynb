{
 "cells": [
  {
   "cell_type": "markdown",
   "metadata": {},
   "source": [
    "- 访问权限：\n",
    "    - 读取（r）： 允许查看文件内容，显示目录列表\n",
    "    - 写入(w)： 允许修改文件内容，允许在目录中新建，删除，移动文件或者子文件\n",
    "    - 可执行(x)： 允许运行程序，切换目录\n",
    "    - 无权限（-）"
   ]
  },
  {
   "cell_type": "markdown",
   "metadata": {},
   "source": [
    "    \n",
    "- 归属（所有权）：\n",
    "    - 属主： 拥有该文件或目录的用户\n",
    "    - 属组： 拥有该文件或目录的组账户"
   ]
  },
  {
   "cell_type": "markdown",
   "metadata": {},
   "source": [
    "- 类型标识\n",
    "    - -代表普通文件\n",
    "    - d代表目录\n",
    "    - c代表字符型文件\n",
    "    - l代表连接文件\n",
    "    - 权限\n",
    "        权限项 | 读 | 写 | 执行 | 读 | 写 | 执行 | 读 | 写 | 执行\n",
    "        ------ | --- | --- | --- | --- | --- | --- | --- | --- | ---\n",
    "        字符表示 | r | w | x | r | w | x | r | w | x\n",
    "        数字表示 | 4 | 3 | 1 | 4 | 3 | 1 | 4 | 3 | 1\n",
    "        权限分配 | 属 | - | 主 | 属 | - | 组 | 其 | - | 他"
   ]
  },
  {
   "cell_type": "markdown",
   "metadata": {},
   "source": [
    "- 修改权限\n",
    "    - 格式1\n",
    "        - chmod [ugoa][+-=][rwx] 文件或者目录\n",
    "            - u,g,o,a 分别代表属主，属组，其他用户，所有用户\n",
    "            - +，-，= 分别代表增加，减去，设置一个权限\n",
    "    - 格式2\n",
    "        - chmod nnn（三位八进制数） 文件或者目录 \n",
    "\n",
    "    - 常用选项\n",
    "        - -R 递归指定目录下所有文件或子目录的权限"
   ]
  },
  {
   "cell_type": "markdown",
   "metadata": {},
   "source": [
    "- 归属权限修改\n",
    "    - 格式\n",
    "        - chown 属主 文件或目录\n",
    "        - chown :属组 文件或目录\n",
    "        - chown 属主:属组 文件或目录\n",
    "    - 常用选项\n",
    "        - -R 递归指定目录下所有文件或子目录的归属权限"
   ]
  },
  {
   "cell_type": "markdown",
   "metadata": {},
   "source": [
    "- ACL权限\n",
    "    - ACL ，主要目的提供传统的owner，group，pthers的read，write,execute权限之外细部权限设定\n",
    "    - ACL可以针对单一使用者，或者单一文件/目录进行r，w，x的权限使用规范\n",
    "    - 设置 ACL\n",
    "        - setfacl -m u:username:rw filename\n",
    "        - setfacl -m g:groupname:rwx filename\n",
    "    - 查看\n",
    "        - getfacl filename\n",
    "    - 删除\n",
    "        - setfacl -x u:username filename"
   ]
  },
  {
   "cell_type": "markdown",
   "metadata": {},
   "source": [
    "- 文件时间\n",
    "    - stat 查看文件信息\n",
    "        - atime 显示文件中的数据最后被访问的时间\n",
    "        - mtime 显示文件内容最后一次修改的时间\n",
    "        - ctime 显示文件的权限，拥有者，所属的组，链接数发生改变的时间（内容改变也会随着改变）"
   ]
  },
  {
   "cell_type": "markdown",
   "metadata": {},
   "source": [
    "- 附加权限\n",
    "    - SET位权限\n",
    "        - SUID  为可执行文件设置（文件具有x位权限），权限标识符：'s' u+s 4 4***\n",
    "            - 当执行这个可执行文件时调用属主的身份执行\n",
    "        - SGID 一般设置在目录上，这时候在该目录下新建的文件或者里目录自动继承父目录的属组， g+s\n",
    "    - 粘滞位权限（Sticky）\n",
    "        - 为公共目录设置（777），标识为't'， o+t \n",
    "        - 其他用户不能删除目录中其他用户的文件\n",
    "        \n",
    "    "
   ]
  }
 ],
 "metadata": {
  "kernelspec": {
   "display_name": "Bash",
   "language": "bash",
   "name": "bash"
  },
  "language_info": {
   "codemirror_mode": "shell",
   "file_extension": ".sh",
   "mimetype": "text/x-sh",
   "name": "bash"
  }
 },
 "nbformat": 4,
 "nbformat_minor": 2
}
