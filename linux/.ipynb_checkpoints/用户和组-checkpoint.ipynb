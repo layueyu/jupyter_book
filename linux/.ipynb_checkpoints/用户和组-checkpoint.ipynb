{
 "cells": [
  {
   "cell_type": "markdown",
   "metadata": {},
   "source": [
    "- 用户账号\n",
    "    - 超级管理员 root\n",
    "    - 普通用户\n",
    "    - 系统/程序用户 系统为某个软件而产生的用户，这类用户一般不允许登陆操作系统"
   ]
  },
  {
   "cell_type": "markdown",
   "metadata": {},
   "source": [
    "- 组账号\n",
    "    - 用户的集合\n",
    "    - 分类\n",
    "        - 基本组 与用户同名的组\n",
    "        - 附加组 将其他用户增加到某个组中。那么这个组成为其他用户的附加组"
   ]
  },
  {
   "cell_type": "markdown",
   "metadata": {},
   "source": [
    "- UID和GID号\n",
    "    - uid（user identity） 用户标识号\n",
    "    - gid（group identity） 组标识号\n",
    "    - 用户UID号\n",
    "        - root： 0\n",
    "        - 普通用户：1000-60000（centos-7） 500+（centos-6）\n",
    "        - 系统用户：1-999（centos 7） 1-499（centos-6）"
   ]
  },
  {
   "cell_type": "markdown",
   "metadata": {},
   "source": [
    "- 相关文件\n",
    "    - /etc/passwd 保存用户的账号信息\n",
    "        - ppx:x:1000:1000:ppx:/home/ppx:/bin/bash\n",
    "            - 字段1： 用户账号名称\n",
    "            - 字段2： 'x' 代表密码占位符 /etc/shadow\n",
    "            - 字段3： 用户账号的UID\n",
    "            - 字段4： 用户基本组账号的GID\n",
    "            - 字段5： 用户全名\n",
    "            - 字段6： 宿主目录（用户家目录）\n",
    "            - 字段7： 用户登录shell信息  /bin/bash(默认登陆shell)  /sbin/nologin(不允许用户登陆系统)\n",
    "\n",
    "    - /etc/shadow 保存用户的密码信息    \n",
    "        - root:$6$wswsYe7.Rk9OMEUD$v6cfpXrnAzbnn/VpHqe52hY1R5S7KHCUE6VQXJLYy/GxKhnuzTdcXLtUBkN/68vEfVVtiEbv6fThW2Wj04sox0::0:99999:7:::\n",
    "            - 字段1: 用户账号名称\n",
    "            - 字段2： 用户密码信息，采用哈希算法\n",
    "            - 字段3： 上次修改密码时间（1970-1-1开始算起）\n",
    "            - 字段4： 密码的最短有效天数\n",
    "            - 字段5： 密码有效期最长有效天数\n",
    "            - 字段6： 密码过期的警告时间\n",
    "            - 字段7： 密码过期后是否允许登陆 0-不允许 10 允许10天 -1 长期\n",
    "            - 字段8： 密码过期时间\n",
    "            - 字段9： 保留字段（未使用） "
   ]
  },
  {
   "cell_type": "markdown",
   "metadata": {},
   "source": [
    "- 组账号文件：\n",
    "    - /etc/group 保存组账号基本信息\n",
    "    - /etc/gshadow  保存组账号的密码信息"
   ]
  },
  {
   "cell_type": "markdown",
   "metadata": {},
   "source": [
    "- 用户信息\n",
    "    - 创建用户\n",
    "        - useradd [选项] userName\n",
    "            - 选项\n",
    "                - -u 为账号制定uid\n",
    "                - -s 为账号制定默认的登陆shell\n",
    "                - -G 将用户添加到指定的附属组内\n",
    "                - -c 为用户添加文本描述\n",
    "                - -d 为主目录指定不同于登录名的名称\n",
    "                - -m 创建用户的家目录（默认创建）\n",
    "                - -M 不创建用户的家目录\n",
    "                - -p password 为用户指定一个默认密码\n",
    "                - -r 创建一个系统账号\n",
    "                - -e 指定用户账号的逾期时间 YYYY-MM-DD\n",
    "    - 查看用户信息\n",
    "        - id userName\n",
    "    - 删除用户\n",
    "        - userdel -r userName\n",
    "    - 修改用户信息\n",
    "        - usermod [选项] username\n",
    "             - 选项\n",
    "                - -u 为账号制定uid\n",
    "                - -s 为账号制定默认的登陆shell\n",
    "                - -G 将用户添加到指定的附属组内\n",
    "                - -L 用于锁定账户，使用户无法登陆\n",
    "                - -U 用于解除账号锁定\n",
    "    - 设置用户密码\n",
    "        - passwd userName\n",
    "    - 更改用户密码信息：\n",
    "        - chage -m 0 -M 90 -W 7 -I -l userName\n",
    "            - -d 最近日期       将最近一次密码设置时间设为“最近日期”\n",
    "                - -d 0 强制用户下次登陆修改密码\n",
    "            - -E 过期日期       将帐户过期时间设为“过期日期”\n",
    "                - -E YYYY-MM-DD\n",
    "            - -I               过期 INACTIVE 天数后，设定密码为失效状态\n",
    "            - -l               显示帐户年龄信息\n",
    "            - -m 最小天数       将两次改变密码之间相距的最小天数设为“最小天数”\n",
    "            - -M 最大天数       将两次改变密码之间相距的最大天数设为“最大天数”\n",
    "            - -R CHROOT_DIR    chroot 到的目录\n",
    "            - -W 警告天数       将过期警告天数设为“警告天数”"
   ]
  },
  {
   "cell_type": "markdown",
   "metadata": {},
   "source": [
    "- 组信息\n",
    "    - 创建组\n",
    "        - groupadd [选项] groupname\n",
    "            - 选项\n",
    "                - -g 指定组的gid号\n",
    "    - 删除组\n",
    "        - groupdel groupname "
   ]
  },
  {
   "cell_type": "markdown",
   "metadata": {},
   "source": [
    "- 查看当前系统用户\n",
    "    - users\n",
    "    - w \n",
    "        -  13:45:11 up  5:18,  2 users,  load average: 0.00, 0.01, 0.05\n",
    "            - 登陆时间 13:45:11 up\n",
    "            - 运行时间 5:18\n",
    "            - 用户总数 2 users\n",
    "            - 负载程度 load average: 0.00, 0.01, 0.05\n",
    "        \n",
    "        - USER  TTY  FROM  LOGIN@   IDLE   JCPU   PCPU WHAT\n",
    "            - USER    登陆用户\n",
    "            - TTY     登陆终端\n",
    "            - FROM    来自那台机器\n",
    "            - LOGIN@  登陆时间\n",
    "            - IDLE    用户空闲时间\n",
    "            - JCPU    消耗CPU时间\n",
    "            - PCPU    任务执行后消耗CPU时间\n",
    "            - WHAT    任务是谁 \n",
    "    - who\n",
    "        显示当前真正登陆系统中的用户（不会显示su切换的用户）\n",
    "    - whoami\n",
    "        - 显示当前用户下的用户名\n",
    "    - who am i\n",
    "        - 显示登陆时用的用户名"
   ]
  }
 ],
 "metadata": {
  "kernelspec": {
   "display_name": "Bash",
   "language": "bash",
   "name": "bash"
  },
  "language_info": {
   "codemirror_mode": "shell",
   "file_extension": ".sh",
   "mimetype": "text/x-sh",
   "name": "bash"
  }
 },
 "nbformat": 4,
 "nbformat_minor": 2
}
