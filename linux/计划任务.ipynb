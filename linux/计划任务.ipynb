{
 "cells": [
  {
   "cell_type": "markdown",
   "metadata": {},
   "source": [
    "- 调度启动：\n",
    "    - 使用at命令，设置在某个特定的时间点，执行一次任务（一次性计划任务）\n",
    "    - 使用crontab命令 设置按固定的周期（如每天）重复执行预先设计好的计划任务"
   ]
  },
  {
   "cell_type": "markdown",
   "metadata": {},
   "source": [
    "- 一次性计划任务\n",
    "    - at 命令\n",
    "        - 格式： at [HH:MM] [yyyy-mm-dd]\n",
    "            - 按 ctrl + D 提交任务\n",
    "        - 在指定的日期，时间点自动执行预先设置好的一些命令操作\n",
    "        - 服务脚本： /etc/init.d/atd \n",
    "        - 安装at： yum install at\n",
    "        - atq \n",
    "            - 查看一次性计划任务,但不能查看具体信息"
   ]
  },
  {
   "cell_type": "markdown",
   "metadata": {},
   "source": [
    "- 周期性计划任务\n",
    "    - crontab 命令\n",
    "        按照预先设置好的时间周期性的重复执行预定的命令操作，属于周期性的计划任务\n",
    "    - 服务脚本：/etc/init.d/crond\n",
    "    - 主要配置文件：\n",
    "        - 全局配置文件：/etc/crontab\n",
    "        - 用户定义的设置文件：/var/spool/cron/用户名\n",
    "    - 管理cron计划任务\n",
    "        - 创建计划任务\n",
    "            - crontab -e [-u username]\n",
    "        - 查看计划任务\n",
    "            - crontab -l [-u username]\n",
    "        - 删除计划任务   \n",
    "            - crontab -r [iu username]\n",
    "        - 注：root用户可以管理全部计划任务，普通用户只能管理自己的计划任务\n",
    "        - 配置格式\n",
    "            - 分钟 小时 日期 月份 星期 command\n",
    "                - 分钟 0-59\n",
    "                - 小时 0-23\n",
    "                - 日期 1-31\n",
    "                - 星期 0-7 0和7代表周日\n",
    "                - command 要执行的脚本或者命令\n",
    "            - 时间数值的特殊表示方法\n",
    "                - *代表该范围内的任意时间\n",
    "                - ,代表间隔的多个不连续的时间范围\n",
    "                - -代表一个连续的时间\n",
    "                - /代表间隔的时间频率\n",
    "                - 例如：\n",
    "                    - 周一到周五的每天下午5点半\n",
    "                        - 30 17 * * 1-5 command\n",
    "                    - 每周1，3，5的早上8点半点\n",
    "                        - 30 8 * * 1，3，5 comman\n",
    "                    - 8点到18点之间每隔2小时\n",
    "                        - 0 8-18/2 * * * comman\n",
    "                    - 每隔3天\n",
    "                        - 0 0 */3 * * comman"
   ]
  }
 ],
 "metadata": {
  "kernelspec": {
   "display_name": "Bash",
   "language": "bash",
   "name": "bash"
  },
  "language_info": {
   "codemirror_mode": "shell",
   "file_extension": ".sh",
   "mimetype": "text/x-sh",
   "name": "bash"
  }
 },
 "nbformat": 4,
 "nbformat_minor": 2
}
