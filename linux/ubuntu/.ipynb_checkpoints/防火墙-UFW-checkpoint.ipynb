{
 "cells": [
  {
   "cell_type": "code",
   "execution_count": null,
   "metadata": {},
   "outputs": [],
   "source": [
    "# 启用\n",
    "sudo ufw enable"
   ]
  },
  {
   "cell_type": "code",
   "execution_count": null,
   "metadata": {},
   "outputs": [],
   "source": [
    "# 关闭外部对本机访问\n",
    "sudo ufw default deny "
   ]
  },
  {
   "cell_type": "code",
   "execution_count": null,
   "metadata": {},
   "outputs": [],
   "source": [
    "# 关闭\n",
    "sudo ufw disable "
   ]
  },
  {
   "cell_type": "code",
   "execution_count": null,
   "metadata": {},
   "outputs": [],
   "source": [
    "# 查看状态\n",
    "sudo ufw status"
   ]
  },
  {
   "cell_type": "markdown",
   "metadata": {},
   "source": [
    "开启/禁用相应端口或服务举例 "
   ]
  },
  {
   "cell_type": "code",
   "execution_count": null,
   "metadata": {},
   "outputs": [],
   "source": [
    "# 允许外部访问80端口\n",
    "sudo ufw allow 80"
   ]
  },
  {
   "cell_type": "code",
   "execution_count": null,
   "metadata": {},
   "outputs": [],
   "source": [
    "# 禁止外部访问80 端口\n",
    "sudo ufw delete allow 80"
   ]
  },
  {
   "cell_type": "code",
   "execution_count": null,
   "metadata": {},
   "outputs": [],
   "source": [
    "# 允许此IP访问所有的本机端口\n",
    "sudo ufw allow from 192.168.1.1  "
   ]
  },
  {
   "cell_type": "code",
   "execution_count": null,
   "metadata": {},
   "outputs": [],
   "source": [
    "# 禁止外部访问smtp服务\n",
    "sudo ufw deny smtp"
   ]
  },
  {
   "cell_type": "code",
   "execution_count": null,
   "metadata": {},
   "outputs": [],
   "source": [
    "# 删除上面建立的某条规则\n",
    "sudo ufw delete allow smtp"
   ]
  },
  {
   "cell_type": "code",
   "execution_count": null,
   "metadata": {},
   "outputs": [],
   "source": [
    "# 要拒绝所有的TCP流量从10.0.0.0/8 到192.168.0.1地址的22端口\n",
    "sudo ufw deny proto tcp from 10.0.0.0/8 to 192.168.0.1 port 22 "
   ]
  },
  {
   "cell_type": "code",
   "execution_count": null,
   "metadata": {},
   "outputs": [],
   "source": [
    "# 可以允许所有RFC1918网络（局域网/无线局域网的）访问这个主机（/8,/16,/12是一种网络分级）：\n",
    "sudo ufw allow from 10.0.0.0/8\n",
    "sudo ufw allow from 172.16.0.0/12\n",
    "sudo ufw allow from 192.168.0.0/16"
   ]
  }
 ],
 "metadata": {
  "kernelspec": {
   "display_name": "Bash",
   "language": "bash",
   "name": "bash"
  },
  "language_info": {
   "codemirror_mode": "shell",
   "file_extension": ".sh",
   "mimetype": "text/x-sh",
   "name": "bash"
  }
 },
 "nbformat": 4,
 "nbformat_minor": 2
}
