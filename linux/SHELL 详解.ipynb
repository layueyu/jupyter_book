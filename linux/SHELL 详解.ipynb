{
 "cells": [
  {
   "cell_type": "markdown",
   "metadata": {},
   "source": [
    "- 简介\n",
    "    - 是一种特殊程序\n",
    "    - 是内核与用户的一种接口\n",
    "    - 一种解释型语言"
   ]
  },
  {
   "cell_type": "markdown",
   "metadata": {},
   "source": [
    "- 用户切换\n",
    "    - su [-] username 切换当前登录用户\n",
    "        - 有 - ： 代表切换Bash\n",
    "        - 无 - ： 不切换Bash环境\n",
    "    - 由root用户切换到普通用户不需要密码\n",
    "    - 由普通用户切换到root用户需要密码\n",
    "    - 示例L： ` su - user `"
   ]
  },
  {
   "cell_type": "code",
   "execution_count": null,
   "metadata": {},
   "outputs": [],
   "source": [
    "# 切换到 user\n",
    "su - user"
   ]
  },
  {
   "cell_type": "markdown",
   "metadata": {},
   "source": [
    "- 主机名\n",
    "    - 查看系统当前主机名\n",
    "        - hostname \n",
    "    - 修改主机名\n",
    "        - hostnamectl set-hostname HostName"
   ]
  },
  {
   "cell_type": "code",
   "execution_count": null,
   "metadata": {},
   "outputs": [],
   "source": [
    "# 查看系统当前主机名\n",
    "hostname"
   ]
  },
  {
   "cell_type": "code",
   "execution_count": null,
   "metadata": {},
   "outputs": [],
   "source": [
    "# 修改主机名\n",
    "hostnamectl set-hostname ubuntu-zero"
   ]
  },
  {
   "cell_type": "markdown",
   "metadata": {},
   "source": [
    "- 系统关机/重启\n",
    "    - 关机\n",
    "        - poweroff \n",
    "        - init 0\n",
    "        - shutdown -h now\n",
    "    - 重启\n",
    "        - reboot\n",
    "        - init 6\n",
    "        - shutdown -r now   # 现在重启\n",
    "        - shutdown -r +15   # 15分钟后重启"
   ]
  },
  {
   "cell_type": "markdown",
   "metadata": {},
   "source": [
    "- 时间和日期 \n",
    "    - 查看当前系统时间\n",
    "        - date\n",
    "    - 查看当前系统日历\n",
    "        - cal\n",
    "        - cal 2018       # 查看全年的日历\n",
    "        - cal 01 2018 # 查看某年某月的日历 "
   ]
  },
  {
   "cell_type": "code",
   "execution_count": null,
   "metadata": {},
   "outputs": [],
   "source": [
    "# 查看当前系统时间\n",
    "date"
   ]
  },
  {
   "cell_type": "code",
   "execution_count": null,
   "metadata": {},
   "outputs": [],
   "source": [
    "# 查看当前系统日历\n",
    "cal"
   ]
  },
  {
   "cell_type": "code",
   "execution_count": null,
   "metadata": {},
   "outputs": [],
   "source": [
    "# 查看全年日历\n",
    "cal 2018"
   ]
  },
  {
   "cell_type": "code",
   "execution_count": null,
   "metadata": {},
   "outputs": [],
   "source": [
    "# 查看某年某月的日历\n",
    "cal 01 2018"
   ]
  },
  {
   "cell_type": "markdown",
   "metadata": {},
   "source": [
    "- 网络\n",
    "    - 查看当前系统IP地址\n",
    "        - ifconfig\n",
    "            - centos安装: yum install net-tools\n",
    "            - ubuntu安装: sudo apt install net-tools\n",
    "        - ip addr\n",
    "    - 测试网络连通性\n",
    "        - ping 127.0.0.1\n",
    "        - ping 127.0.0.1 -c 4  #指定ping的次数"
   ]
  },
  {
   "cell_type": "code",
   "execution_count": null,
   "metadata": {},
   "outputs": [],
   "source": [
    "# 查看 当前系统IP地址\n",
    "ifconfig"
   ]
  },
  {
   "cell_type": "code",
   "execution_count": null,
   "metadata": {},
   "outputs": [],
   "source": [
    "# 查看 当前系统IP地址\n",
    "ip addr"
   ]
  },
  {
   "cell_type": "code",
   "execution_count": null,
   "metadata": {},
   "outputs": [],
   "source": [
    "# ping 域名\n",
    "ping www.baidu.com"
   ]
  },
  {
   "cell_type": "code",
   "execution_count": null,
   "metadata": {},
   "outputs": [],
   "source": [
    "# 指定 ping 的次数\n",
    "ping 192.168.31.1 -c 4"
   ]
  },
  {
   "cell_type": "markdown",
   "metadata": {},
   "source": [
    "- 常用快捷键\n",
    "    - ctrl + c 中断当前操作\n",
    "    - ctrl + l（alice）= clear 清屏\n",
    "    - '\\' 换行\n",
    "    - ctrl + a  光标跳到行首\n",
    "    - ctrl + e  光标跳到行尾\n",
    "    - ctrl + u  清空光标所在位置前面的所有内容\n",
    "    - ctrl + k  清空光标所在位置后面的所有内容\n",
    "    - ctrl + shift + '+' 放大字体\n",
    "    - ctrl + '-'  缩小字体"
   ]
  },
  {
   "cell_type": "markdown",
   "metadata": {},
   "source": [
    "- 历史命令\n",
    "    - history 查看历史命令\n",
    "    - !n 调用历史命令\n",
    "    - history -c 清除历史命令"
   ]
  },
  {
   "cell_type": "markdown",
   "metadata": {},
   "source": [
    "- 命令的通用格式\n",
    "    - 命令字 【选项】 【参数】\n",
    "        - 选项 \n",
    "            - 作用： 用于调节命令的具体功能\n",
    "            - '-' 引导短格式选项（单个字符）\n",
    "            - '--' 引导长格式选项（多个字符）\n",
    "        - 参数\n",
    "            - 命令操作对象，有文件，目录等\n",
    "        - 示例\n",
    "            - ` ls -l /home `"
   ]
  },
  {
   "cell_type": "markdown",
   "metadata": {},
   "source": [
    "- 目录操作命令\n",
    "    - ls \n",
    "    - cd\n",
    "        - 切换工作目录\n",
    "        - cd [目录位置]\n",
    "        - 绝对路径： cd /home/\n",
    "        - 相对路径： \n",
    "            - cd .. 返回上一级目录\n",
    "            - cd -  返回上一次所在的工作目录\n",
    "            - cd ../../ 返回上一级目录的上一级目录\n",
    "    - pwd\n",
    "        - 查看当前工作目录\n",
    "    - mkdir\n",
    "        - 创建一个新目录\n",
    "        - 格式： mkdir 【选项-p】 目录路径\n",
    "            - 选项：\n",
    "                - -p 递归创建多级目录\n",
    "    - rmdir\n",
    "        - 移除空目录\n",
    "    - ls\n",
    "        - 列出当前目录下的文件或目录\n",
    "        - 格式： ls [选项] [目录或文件名]\n",
    "            - 选项：\n",
    "                - -l  以长格式显示\n",
    "                - -a  显示所有的目录及文件，包括隐藏文件\n",
    "                - -d  显示目录本身的属性\n",
    "                - --color 以颜色区分不同类型的文件\n",
    "        - 注： 在linux中以'.'开头的文件是隐藏文件\n",
    "               ll == ls -l\n",
    "    - tree\n",
    "        - 将目录以目录树的形式显示\n",
    "        - 安装： \n",
    "            - centos: yum install tree\n",
    "            - ubuntu: sudo apt install tree"
   ]
  },
  {
   "cell_type": "markdown",
   "metadata": {},
   "source": [
    "- 文件操作命令\n",
    "    - touch\n",
    "        - 创建一个空文件，更新文件时间标记\n",
    "        - 格式： touch fileName\n",
    "    - cp\n",
    "        - 复制文件或目录\n",
    "        - 格式： cp [选项] 源文件/目录 目标文件/目录\n",
    "            - 选项：\n",
    "                - -r 递归复制目录\n",
    "                - -l 强制覆盖文件\n",
    "    - mv\n",
    "        - 移动文件/目录\n",
    "        - 格式： mv [选项] 源文件/目录 目标文件/目录\n",
    "    - rm\n",
    "        - 删除文件/目录\n",
    "        - 格式：rm [选项] 文件/目录\n",
    "            - 选项：\n",
    "                - -r 递归删除整个目录树\n",
    "                - -f 强制删除，不给任何提示\n",
    "    - find\n",
    "        - 查找文件/目录\n",
    "        - 格式： find [查找范围] [查找条件]\n",
    "            - 查找条件：\n",
    "                - -name 按文件名查找\n",
    "                - -type 按文件类型查找\n",
    "                    - f 普通文件\n",
    "                    - d 目录\n",
    "                    - b 块设备文件\n",
    "                    - c 字符设备文件\n",
    "                - -user 按文件属主查找（这个文件是谁）\n",
    "                - -size 按文件大小进行查找【 +10k 大于10k，-10k小于10k 】\n",
    "                - -a 逻辑与\n",
    "                - -o 逻辑或\n",
    "                - -! 逻辑非"
   ]
  },
  {
   "cell_type": "markdown",
   "metadata": {},
   "source": [
    "- 文件内容操作命令\n",
    "    - cat\n",
    "        - 文件内容查看，显示出文件的全部内容\n",
    "        - 格式： cat fileName\n",
    "    - less（more）\n",
    "        - 全屏方式，分页显示文件内容\n",
    "        - 回车键 逐行滚动\n",
    "        - 空格键 向下翻页\n",
    "        - Q键 退出\n",
    "    - head\n",
    "        - 显示文件头部若干行，默认10行\n",
    "        - 格式： head [选项] fileName\n",
    "    - tail\n",
    "        - 显示文件尾部若干行，默认10行\n",
    "        - 格式： tail [选项] fileName \n",
    "    - grep\n",
    "        - 在文件中查找并包含制定字符串的行\n",
    "        - 格式： grep [选项] 查找条件 目标文件\n",
    "            - 选项：\n",
    "                -c 显示匹配行的数量\n",
    "                -i 查找时不区分大小写\n",
    "                -v 反转查找\n",
    "            - 查找条件\n",
    "                - 查找条件用引号引起来\n",
    "                - '^...' 表示以。。。开头\n",
    "                - '...$' 表示以。。。结尾 '..$'\n",
    "                - '^$' 表示空行 '^$'\n",
    "               \n",
    "    - wc\n",
    "        - 统计文件内容，默认：行数 词数 字节数\n",
    "        - 格式： wc [选项] fileName\n",
    "            - 选项：\n",
    "                - -w 统计字数， 一个字被定义为有空格、制表符、换行符分割的字符串\n",
    "                - -l 行数\n",
    "                - -c 字节数\n",
    "                - -m 字符数，不能与-c一起使用\n",
    "                - -L 打印最长行的长度"
   ]
  },
  {
   "cell_type": "markdown",
   "metadata": {},
   "source": [
    "- 归档以及压缩命令\n",
    "    - tar\n",
    "        - 压缩与解压 制作归档文件和解包归档文件\n",
    "        - 格式： \n",
    "            - 归档文件\n",
    "                tar [选项] [目录]/归档文件名 源文件或者目录\n",
    "            - 解包归档文件\n",
    "                tar [选项] [目录]/归档文件名 [-C 目标文件]\n",
    "        - 命令：\n",
    "            - 压缩：\n",
    "                - tar -czvf [存放路径]归档文件名.tar.gz 源文件或者目录\n",
    "                - tar -cjvf [存放路径]归档文件名.tar.bz2 源文件或者目录\n",
    "            - 解压：\n",
    "                - tar -xzvf [存放路径]归档文件名.tar.gz [-C 解压目录]\n",
    "                - tar -cjvf [存放路径]归档文件名.tar.bz2 [-C 解压目录]"
   ]
  },
  {
   "cell_type": "markdown",
   "metadata": {},
   "source": [
    "- 别名， 为使用频率较高的命令设置简短的调用名称\n",
    "    - 查看别名\n",
    "        - alias [别名]\n",
    "    - 设置别名\n",
    "        - alias 别名=\"实际执行的命令\"\n",
    "    - 取消别名\n",
    "        - unalias 别名\n",
    "        - unalias -a   #取消所有别名\n",
    "    - 别名永久生效\n",
    "        - 将别名设置在~/.bashrc 文件中"
   ]
  },
  {
   "cell_type": "markdown",
   "metadata": {},
   "source": [
    "- 获取命令帮助\n",
    "    - help （内部命令）\n",
    "    - --help （大多数外部命令查找）\n",
    "    - 使用man手册进行命令查看（man： 命令阅读手册）\n",
    "        - man 命令字\n",
    "        - 上下键滚动文本\n",
    "        - PageUp PageDown 上下翻页\n",
    "        - 空格也支持翻页，回车键走一行\n",
    "        - 输入 / ， 可以查找\n",
    "    - info  也可进行命令帮助查找（使用与man类似）\n",
    "    - pinfo 命令名称 以浏览器的形式查看详细的GUN信息\n",
    "    - /usr/share/doc 所有已安装软件的说明文档"
   ]
  },
  {
   "cell_type": "markdown",
   "metadata": {},
   "source": [
    "- 连接\n",
    "    - ln ---->link\n",
    "    - 格式\n",
    "        - 软连接： ln -s 源文件 目标文件\n",
    "        - 硬链接： ln 源文件 目标文件\n",
    "            - 注：硬链接相等于cp -p + 同步更新"
   ]
  },
  {
   "cell_type": "markdown",
   "metadata": {},
   "source": [
    "- 重定向与管道符\n",
    "    - 作用： 将命令的执行结果输出到指定的文件中，而不是直接显示在屏幕上\n",
    "    - 标准输入 键盘 stdin 仅读取 0通道\n",
    "    - 标准输出 终端 stdout 仅写入 1通道\n",
    "    - 标准错误 终端 stderr 仅写入 2通道\n",
    "    - 在linux中构建了一个带有编号标记的通道（文件描述符）的进程结构来管理打开的文件\n",
    "      通过进程连接到文件，进行文件的操作\n",
    "    - 重定向标准输出\n",
    "        - > 标准输出重定向输出到指定的文件中，覆盖写\n",
    "        - >> 标准输出重定向输出到指定的文件中，追加写\n",
    "    - 重定向标准错误\n",
    "        - 2> 标准错误重定向输出到指定的文件中，覆盖写\n",
    "        - 2>> 标准错误重定向输出到指定的文件中，追加写\n",
    "    - 重定向标准输出和标准错误\n",
    "        - &> 标准输出和标准错误重定向输出到指定的文件中，覆盖写\n",
    "        - &>> 标准输出和标准错误重定向输出到指定的文件中，追加写\n",
    "    - /dev/null Linux黑洞文件\n",
    "- 管道\n",
    "    - 将前面的结果作为后面语句的条件执行\n",
    "    - 标示符号：|"
   ]
  },
  {
   "cell_type": "markdown",
   "metadata": {},
   "source": [
    "- vim 文本编辑器\n",
    "    - vi/vim\n",
    "    - vim 特点： 可拓展性高，支持多种语言脚本，支持文件类型插件，支持文本文件的各种操作\n",
    "    - 模式：\n",
    "        - 命令模式  用于文件导航，复制、粘贴、剪切，可以使用简单的命令，撤销、恢复\n",
    "            - 上下左右健可以自由移动\n",
    "            - L键 光标向左移动一个位置\n",
    "            - H键 光标向右移动一个位置\n",
    "            - K键 光标向上移动一个位置\n",
    "            - J键 光标向下移动一个位置\n",
    "            - ^键 光标移动到当前行的开始位置 home\n",
    "            - $键 光标移动到当前行的末尾位置 end $\n",
    "            - gg(小写)  回到文档的首行\n",
    "            - G(大写)   回到文档尾行\n",
    "            - page down 向下翻动一页   ctrl + f\n",
    "            - page up 向上翻动一页 ctrl + b\n",
    "            - 跳转至文档的某一行\n",
    "                - 2gg == 2G == :2\n",
    "            - 显示行号\n",
    "                - :set nu #显示行号\n",
    "                - :set nonu #取消行号\n",
    "            - 复制 \n",
    "                - yy 复制一行\n",
    "                - Nyy 复制多行 N-->大于0的整数\n",
    "            - 粘贴\n",
    "                - p（小写) 将复制内容粘贴到光标位置后一行 \n",
    "                - P (大写) 将复制内容粘贴到光标位置前一行\n",
    "            - 删除\n",
    "                - dd  删除一行\n",
    "                - Ndd 删除多行 N-->大于0的整数\n",
    "                - d^  删除光标之前到行首的字符\n",
    "                - d$  删除光标之后到行尾的字符 d$\n",
    "                - delete/x  删除光标处的单个字符\n",
    "            - 查找字符\n",
    "                - / 从上往下查找\n",
    "                - ? 从下往上查找     \n",
    "                - n(小些) 定位下一个匹配的被查找的字符\n",
    "                - N(大写) 定位上一个匹配的被查找的字符\n",
    "            - 撤销编辑\n",
    "                - u(小写) 按一次撤销一次\n",
    "                - U(大写) 撤销对当前行的修改\n",
    "            - 保存退出\n",
    "                - ZZ(大写) 保存对当前文档修改并退出编辑\n",
    "\n",
    "        - 输入模式  正常的文本编辑模式，进程文本的常规操作，还可以替换文本\n",
    "        - 末行模式  保存，退出，搜索，替换\n",
    "            - 保存操作\n",
    "                - :w  保存但不退出\n",
    "                - :wq 保存并退出\n",
    "                - :w /路径 另存为\n",
    "            - 退出\n",
    "                - :q 未修改退出\n",
    "                - :q! 强制退出，不保存修改 \n",
    "            - 替换\n",
    "                - :s/old/new 将当前行中查到的是第一个字符'old'替换为'new'\n",
    "                - :s/old/new/g 将当前行查找到的字符‘old’替换为‘new’\n",
    "                - :%s/old/new/g 将全文查找到的字符‘old’替换为‘new’\n",
    "                - :#,# s/old/new/g 将指定行号范围内查找到的字符‘old’替换为‘new’\n",
    "                - :s/old/new/c 在每次替换时进行用户确认\n",
    "            - 打开新文件或读入新的文件内容\n",
    "                - :e 文件路径  在当前下，打开新的文件进行编辑\n",
    "                - :r 文件路径  在当前编辑中，倒入新的文件中的内容"
   ]
  },
  {
   "cell_type": "markdown",
   "metadata": {},
   "source": [
    "- 软件安装\n",
    "    - 软件包类型\n",
    "        - rpm 拓展名为 .rpm\n",
    "        - deb 拓展名为 .deb\n",
    "        - 源代码安装       \n",
    "        - 提供安装程序的软件包\n",
    "    - rpm 软件包\n",
    "        - 有redhat公司提出\n",
    "        - 建立统一的数据库文件，详细记录软件安装，卸载等变化信息，自动分析依赖关系\n",
    "        - 推荐网站： rpmfind.net   \n",
    "        - 查看已安装的rpm包：\n",
    "            - 格式 rpm [选项] 【软件名】\n",
    "            - rpm -qa 查看系统说有以安装的rpm包\n",
    "            - rpm -qf 查看文件或mulu属于哪个rpm软件\n",
    "        - 安装/升级rpm软件包\n",
    "            - rpm -ivh 软件包文件\n",
    "                - -i 安装\n",
    "                - -v 显示详细信息\n",
    "                - -h 显示安装进度，以#显示\n",
    "                - U 升级某个RPM软件，若没有安装则进行安装\n",
    "                - F 更新某个RPM软件，若没有安装，则放弃安装\n",
    "        - 卸载\n",
    "            - rpm -e 软件名\n",
    "    - yum源软件管理方式\n",
    "        - yum仓库集中化管理，管理rpm包\n",
    "        - 很好解决了依赖关系\n",
    "        - yum源的配置文件路径： /etc/yum.repos.d/\n",
    "            - yum配置文件必须以.repo结尾\n",
    "            - yum配置文件内容：\n",
    "                [centosplus]                    #yum 标示\n",
    "                name=CentOS-$releasever         #yum 名称$\n",
    "                baseurl=http://mirror.centos.   #yum 源路径\n",
    "                gpgcheck=1                      # 是否校验软件包签名信息 1校验 0不校验\n",
    "                enabled=0                       # 开机是否自启 1 自启 0 不自启\n",
    "        - yum命令\n",
    "            - yum remove packageName  删除软件包\n",
    "            - yum info packageName 查看软件包信息\n",
    "            - yum search packageName  查找软件包\n",
    "            - yum updaye packageName  更新软件包  \n",
    "\n",
    "            - yum 安装软件包组\n",
    "                - yum grouplist  列出所有可用组\n",
    "                - yum groupinfo  查看组信息\n",
    "                - yum groupinstall 安装软件包组\n",
    "                - yum grouperase  删除软件包组\n",
    "                - yum groupupdate 更新软件包组\n",
    "            \n",
    "            - 安装本地rpm包\n",
    "                yum localinstall **.rpm "
   ]
  }
 ],
 "metadata": {
  "kernelspec": {
   "display_name": "Bash",
   "language": "bash",
   "name": "bash"
  },
  "language_info": {
   "codemirror_mode": "shell",
   "file_extension": ".sh",
   "mimetype": "text/x-sh",
   "name": "bash"
  }
 },
 "nbformat": 4,
 "nbformat_minor": 2
}
